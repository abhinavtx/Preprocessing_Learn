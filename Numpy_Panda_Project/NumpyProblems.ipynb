{
 "cells": [
  {
   "cell_type": "code",
   "execution_count": 2,
   "metadata": {},
   "outputs": [],
   "source": [
    "import numpy as np"
   ]
  },
  {
   "cell_type": "code",
   "execution_count": 43,
   "metadata": {},
   "outputs": [
    {
     "name": "stdout",
     "output_type": "stream",
     "text": [
      "[[0.32474545 0.12623163 0.15423802 0.52386927 0.53907221 0.74243466]\n",
      " [0.7095291  0.76054194 0.19737168 0.41174468 0.3770703  0.23545505]\n",
      " [0.49383477 0.89600139 0.36543599 0.67710661 0.48342752 0.30180185]\n",
      " [0.44478269 0.13713363 0.69722223 0.17302111 0.2018117  0.21713712]\n",
      " [0.67518815 0.32075697 0.31332391 0.31406396 0.08203681 0.79621335]]\n",
      "0.4230867918618661\n",
      "0.4230867918618661\n",
      "True\n"
     ]
    }
   ],
   "source": [
    "## Now finding average and mean\n",
    "randNumbers = np.random.random((5,6))\n",
    "a = randNumbers.mean()\n",
    "b = np.average(randNumbers) # Taking average of matrix (without specifying any axis)\n",
    "print(randNumbers)\n",
    "print(a)\n",
    "print(b)\n",
    "print(a == b)"
   ]
  },
  {
   "cell_type": "code",
   "execution_count": 51,
   "metadata": {},
   "outputs": [
    {
     "data": {
      "text/plain": [
       "array([4., 5., 6.])"
      ]
     },
     "execution_count": 51,
     "metadata": {},
     "output_type": "execute_result"
    }
   ],
   "source": [
    "## Now finding average according to axis\n",
    "matrix = np.array([[1,2,3],[4,5,6],[7,8,9]])\n",
    "#wt = np.array([1,2,3])\n",
    "avg = np.average(matrix, axis = 0)\n",
    "avg"
   ]
  },
  {
   "cell_type": "code",
   "execution_count": 55,
   "metadata": {},
   "outputs": [
    {
     "name": "stdout",
     "output_type": "stream",
     "text": [
      "Bincount Output \n",
      " [1 1 2 1 1 2 1 0 1]\n",
      "Bincount tells us the number of occurences of the index in the array\n"
     ]
    }
   ],
   "source": [
    "## Now using numpy.bincount\n",
    "#In an array of +ve integers, the numpy.bincount() method counts the occurrence of each element. \n",
    "# Each bin value is the occurrence of its index\n",
    "number = [1,2,2,5,5,6,3,4,0,8]\n",
    "bin = np.bincount(number)\n",
    "print(\"Bincount Output \\n\", bin)\n",
    "print(\"Bincount tells us the number of occurences of the index in the array\")"
   ]
  },
  {
   "cell_type": "code",
   "execution_count": 3,
   "metadata": {},
   "outputs": [
    {
     "name": "stdout",
     "output_type": "stream",
     "text": [
      "[ 1.          6.44444444 11.88888889 17.33333333 22.77777778 28.22222222\n",
      " 33.66666667 39.11111111 44.55555556 50.        ]\n"
     ]
    }
   ],
   "source": [
    "# linspace used to create elements within a certain range and a number of them\n",
    "# It takes 3 arguements with range and make 10 elements in numpy array, equally spaced from each other\n",
    "someNum = np.linspace(1,50,10)\n",
    "print(someNum)"
   ]
  },
  {
   "cell_type": "code",
   "execution_count": 4,
   "metadata": {},
   "outputs": [
    {
     "data": {
      "text/plain": [
       "array([1, 3, 5, 7, 9])"
      ]
     },
     "execution_count": 4,
     "metadata": {},
     "output_type": "execute_result"
    }
   ],
   "source": [
    "# np.arange create array with incrementing values\n",
    "arangingArray = np.arange(1,10,2)\n",
    "arangingArray"
   ]
  },
  {
   "cell_type": "code",
   "execution_count": 5,
   "metadata": {},
   "outputs": [
    {
     "data": {
      "text/plain": [
       "array([[1., 0., 0., 0.],\n",
       "       [0., 1., 0., 0.],\n",
       "       [0., 0., 1., 0.],\n",
       "       [0., 0., 0., 1.]])"
      ]
     },
     "execution_count": 5,
     "metadata": {},
     "output_type": "execute_result"
    }
   ],
   "source": [
    "# Creating eye matrix\n",
    "eyeMatrix = np.eye(4) \n",
    "eyeMatrix"
   ]
  },
  {
   "cell_type": "code",
   "execution_count": 6,
   "metadata": {},
   "outputs": [
    {
     "data": {
      "text/plain": [
       "array([[0., 0., 0.],\n",
       "       [0., 0., 0.]])"
      ]
     },
     "execution_count": 6,
     "metadata": {},
     "output_type": "execute_result"
    }
   ],
   "source": [
    "np.zeros((2, 3)) # For creation of 2d matrix with 2 rows and 3 columns of zeros"
   ]
  },
  {
   "cell_type": "code",
   "execution_count": 7,
   "metadata": {},
   "outputs": [
    {
     "name": "stdout",
     "output_type": "stream",
     "text": [
      "[[0.07349092 0.75966963 0.85188128 0.15981484]\n",
      " [0.12307573 0.85577599 0.8755997  0.68071739]\n",
      " [0.21098853 0.3935349  0.94671295 0.59870559]]\n",
      "\n",
      "\n"
     ]
    },
    {
     "data": {
      "text/plain": [
       "array([1.07777291e-311, 0.00000000e+000, 4.94065646e-324])"
      ]
     },
     "execution_count": 7,
     "metadata": {},
     "output_type": "execute_result"
    }
   ],
   "source": [
    "# Generate a random matrix with shape (rows, cols)\n",
    "random_matrix = np.random.random((3,4))\n",
    "print(random_matrix)\n",
    "print('\\n')\n",
    "np.empty(3)"
   ]
  },
  {
   "cell_type": "code",
   "execution_count": 9,
   "metadata": {},
   "outputs": [
    {
     "name": "stdout",
     "output_type": "stream",
     "text": [
      "[ 1  2 15  4]\n",
      "[1 2 3 4]\n",
      "[ 1  2 15  4]\n"
     ]
    }
   ],
   "source": [
    "# Making copy of numpy array\n",
    "arr = np.array([1,2,3,4])\n",
    "copyArr = arr.copy() # This is deep copy\n",
    "viewArr = arr.view() # This is shallow copy\n",
    "arr[2] = 15\n",
    "print(arr)\n",
    "print(copyArr)\n",
    "print(viewArr)"
   ]
  },
  {
   "cell_type": "code",
   "execution_count": 15,
   "metadata": {},
   "outputs": [
    {
     "data": {
      "text/plain": [
       "array([['1', '8', '3'],\n",
       "       ['3', '5', '7'],\n",
       "       ['g', 'g', 'g'],\n",
       "       ['g', 'g', 'g']], dtype='<U11')"
      ]
     },
     "execution_count": 15,
     "metadata": {},
     "output_type": "execute_result"
    }
   ],
   "source": [
    "# Concatenating numpy of different types\n",
    "arr = np.array([[1, 8, 3], [3,5,7]])\n",
    "arr2 = np.array([['g','g','g'], ['g','g','g'] ]) \n",
    "combinedArr = np.concatenate((arr, arr2), axis = 0)\n",
    "combinedArr"
   ]
  },
  {
   "cell_type": "code",
   "execution_count": 18,
   "metadata": {},
   "outputs": [
    {
     "name": "stdout",
     "output_type": "stream",
     "text": [
      "[[ 1  8  3  3  5]\n",
      " [ 5  4 85  1 45]] \n",
      " the dimension of array is 2 \n",
      "\n",
      "[ 1  8  3  3  5  5  4 85  1 45]\n"
     ]
    }
   ],
   "source": [
    "## Making stack in array\n",
    "arr1 = np.array([1, 8, 3, 3, 5])\n",
    "arr2 = np.array([5,4,85,1,45])\n",
    "newArr = np.vstack((arr1, arr2))\n",
    "newArr2 = np.hstack((arr1, arr2))\n",
    "print(newArr,\"\\n the dimension of array is {}\".format(newArr.ndim), '\\n')\n",
    "print(newArr2)"
   ]
  },
  {
   "cell_type": "code",
   "execution_count": 19,
   "metadata": {},
   "outputs": [
    {
     "data": {
      "text/plain": [
       "[array([0, 1]), array([2, 3]), array([4]), array([5])]"
      ]
     },
     "execution_count": 19,
     "metadata": {},
     "output_type": "execute_result"
    }
   ],
   "source": [
    "# Splitting the array into 4 uNequal parts along the first axis (axis=0)\n",
    "array = np.arange(6)\n",
    "result = np.array_split(array, 4)\n",
    "result"
   ]
  },
  {
   "cell_type": "code",
   "execution_count": 20,
   "metadata": {},
   "outputs": [
    {
     "name": "stdout",
     "output_type": "stream",
     "text": [
      "[[ True  True]\n",
      " [False False]]\n",
      "Result conclusion is:  False\n"
     ]
    }
   ],
   "source": [
    "## Comparison of 2 arrays\n",
    "an_array = np.array([[1, 2], [3, 4]])\n",
    "another_array = np.array([[1, 2], [4, 3]])\n",
    "\n",
    "print(another_array == an_array)\n",
    "# This tells us about the relation with list items individually in the given manner\n",
    "# To make net decision use:\n",
    "compar = another_array == an_array\n",
    "print(\"Result conclusion is: \",compar.all())"
   ]
  },
  {
   "cell_type": "code",
   "execution_count": 39,
   "metadata": {},
   "outputs": [
    {
     "name": "stdout",
     "output_type": "stream",
     "text": [
      "[15 12 11]\n",
      "[0 8 8]\n",
      "[15  4  3]\n"
     ]
    }
   ],
   "source": [
    "## Doing bitwise binary operations \n",
    "# Doing binary operations\n",
    "arr1 = np.array([5,8,10])\n",
    "arr2 = np.array([10,12,9])\n",
    "ansOr = np.bitwise_or(arr1, arr2)\n",
    "ansAnd = np.bitwise_and(arr1, arr2)\n",
    "ansXor = np.bitwise_xor(arr1, arr2)\n",
    "print(ansOr)\n",
    "print(ansAnd)\n",
    "print(ansXor)"
   ]
  },
  {
   "cell_type": "code",
   "execution_count": 56,
   "metadata": {},
   "outputs": [
    {
     "name": "stdout",
     "output_type": "stream",
     "text": [
      "['Hi', 'how', 'are', 'you']\n"
     ]
    }
   ],
   "source": [
    "## Using split operations in string\n",
    "print(np.char.split('Hi how are you'))"
   ]
  },
  {
   "cell_type": "code",
   "execution_count": 64,
   "metadata": {},
   "outputs": [
    {
     "name": "stdout",
     "output_type": "stream",
     "text": [
      "[[ 1.  4.  7. 10.]\n",
      " [ 2.  5.  8. 11.]\n",
      " [ 3.  6.  9. 12.]]\n",
      "[[ 1.  2.  3.  4.]\n",
      " [ 5.  6.  7.  8.]\n",
      " [ 9. 10. 11. 12.]]\n",
      "Are both arrays after reshaping in order C and A are same:  True\n"
     ]
    }
   ],
   "source": [
    "## Reshaping of NumPy Array\n",
    "arr = np.arange(1, 13.0) # In this as we have mentioned .0 so all the elements will be of type float\n",
    "reshArr = np.reshape(arr, (3,4), order='F')\n",
    "# In this way reshape is done such a way that columns are filled first\n",
    "reshArr2 = np.reshape(arr, (3,4) , order='A')\n",
    "# In this way reshape is done such a way that rows are filled first\n",
    "print(reshArr)\n",
    "print(reshArr2)\n",
    "\n",
    "# By default order is 'C' which means the method which is faster and it is always 'A'\n",
    "reshArr3 = np.reshape(arr, (3,4) , order='C')\n",
    "print(\"Are both arrays after reshaping in order C and A are same: \", (reshArr2 == reshArr3).all() )"
   ]
  },
  {
   "cell_type": "code",
   "execution_count": 66,
   "metadata": {},
   "outputs": [
    {
     "name": "stdout",
     "output_type": "stream",
     "text": [
      "The matrice shape is:  (3, 2)\n",
      "[[1 2]\n",
      " [3 4]\n",
      " [5 6]]\n",
      "After flattening the matrice is: \n",
      " [1 2 3 4 5 6]\n"
     ]
    }
   ],
   "source": [
    "## Now flattening a 2d array\n",
    "mat = np.array([[1,2], [3,4],[5,6]])\n",
    "print(\"The matrice shape is: \", mat.shape)\n",
    "print(mat)\n",
    "print(\"After flattening the matrice is: \\n\",mat.flatten(order = 'a'))"
   ]
  },
  {
   "cell_type": "code",
   "execution_count": 76,
   "metadata": {},
   "outputs": [
    {
     "name": "stdout",
     "output_type": "stream",
     "text": [
      "[[0 1 2]\n",
      " [3 4 5]\n",
      " [6 7 8]]\n",
      "\n",
      " [array([[0, 1, 2]]), array([[3, 4, 5]]), array([[6, 7, 8]])]\n",
      "[array([[0],\n",
      "       [3],\n",
      "       [6]]), array([[1],\n",
      "       [4],\n",
      "       [7]]), array([[2],\n",
      "       [5],\n",
      "       [8]])]\n",
      "The type after reshaping is <class 'list'> and inside it is <class 'numpy.ndarray'>\n"
     ]
    }
   ],
   "source": [
    "## Using of split functions\n",
    "# Use of vsplit function\n",
    "arr = np.arange(9).reshape(3,3)\n",
    "print(arr)\n",
    "ex = np.vsplit(arr, 3)\n",
    "print(\"\\n\", ex)\n",
    "# This functions makes equal subarrays from original matrix \n",
    "hSpl = np.hsplit(arr, 3)\n",
    "print(hSpl)\n",
    "print(\"The type after reshaping is {} and inside it is {}\".format(type(hSpl), type(hSpl[0])),)"
   ]
  },
  {
   "cell_type": "code",
   "execution_count": null,
   "metadata": {},
   "outputs": [],
   "source": []
  }
 ],
 "metadata": {
  "kernelspec": {
   "display_name": "Python 3",
   "language": "python",
   "name": "python3"
  },
  "language_info": {
   "codemirror_mode": {
    "name": "ipython",
    "version": 3
   },
   "file_extension": ".py",
   "mimetype": "text/x-python",
   "name": "python",
   "nbconvert_exporter": "python",
   "pygments_lexer": "ipython3",
   "version": "3.12.1"
  }
 },
 "nbformat": 4,
 "nbformat_minor": 2
}
