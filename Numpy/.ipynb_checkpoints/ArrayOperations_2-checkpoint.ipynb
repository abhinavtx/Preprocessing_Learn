{
 "cells": [
  {
   "cell_type": "code",
   "execution_count": 1,
   "id": "038db485",
   "metadata": {},
   "outputs": [],
   "source": [
    "## Indexing and slicing in numpy arrays"
   ]
  },
  {
   "cell_type": "code",
   "execution_count": 2,
   "id": "426f4881",
   "metadata": {},
   "outputs": [],
   "source": [
    "import numpy as np"
   ]
  },
  {
   "cell_type": "code",
   "execution_count": 8,
   "id": "ea0e6bad",
   "metadata": {},
   "outputs": [
    {
     "name": "stdout",
     "output_type": "stream",
     "text": [
      "[3 4 9]\n",
      "<class 'numpy.ndarray'>\n"
     ]
    }
   ],
   "source": [
    "arr = np.arange(10)\n",
    "newArr = arr[np.array([3,4,-1])]\n",
    "print(newArr) # This is indexing\n",
    "print(type(newArr)) # -ve index start from end"
   ]
  },
  {
   "cell_type": "code",
   "execution_count": 10,
   "id": "c045a6c2",
   "metadata": {},
   "outputs": [
    {
     "name": "stdout",
     "output_type": "stream",
     "text": [
      "[0 1 2 3 4]\n"
     ]
    }
   ],
   "source": [
    "newArr1 = arr[:5] # Slicing\n",
    "print(newArr1)"
   ]
  },
  {
   "cell_type": "code",
   "execution_count": 17,
   "id": "af95e6c7",
   "metadata": {},
   "outputs": [
    {
     "name": "stdout",
     "output_type": "stream",
     "text": [
      "[[0 1 2]\n",
      " [3 4 5]\n",
      " [6 7 8]]\n",
      "[[0 1]\n",
      " [3 4]]\n"
     ]
    }
   ],
   "source": [
    "mat = np.arange(9).reshape(3,3)\n",
    "print(mat)\n",
    "mat2 = mat[0:2,0:2] # First one is for along the row (horizontal) and second is for along the column (vertical) \n",
    "print (mat2)"
   ]
  },
  {
   "cell_type": "code",
   "execution_count": 20,
   "id": "43138caf",
   "metadata": {},
   "outputs": [
    {
     "name": "stdout",
     "output_type": "stream",
     "text": [
      "The standard deviation of matrix is: 2.581988897471611\n"
     ]
    }
   ],
   "source": [
    "## Calculating std dev\n",
    "stDev = np.std(mat)\n",
    "print(\"The standard deviation of matrix is: {}\".format(stDev))"
   ]
  },
  {
   "cell_type": "code",
   "execution_count": 21,
   "id": "f0293e48",
   "metadata": {},
   "outputs": [],
   "source": [
    "## Usage of Linear Algebra \n",
    "from numpy import linalg as LA"
   ]
  },
  {
   "cell_type": "code",
   "execution_count": 33,
   "id": "4c7ea4de",
   "metadata": {},
   "outputs": [
    {
     "name": "stdout",
     "output_type": "stream",
     "text": [
      "[[ 6  7  8]\n",
      " [ 9 10 11]\n",
      " [12 13 14]]\n",
      "Rank:  2\n",
      "\n",
      "Trace of A: 30\n",
      "\n",
      "Determinant of A: 0.0\n"
     ]
    }
   ],
   "source": [
    "array = np.arange(6,15).reshape(3,3)\n",
    "print(array)\n",
    "print(\"Rank: \", LA.matrix_rank(array))\n",
    "print(\"\\nTrace of A:\", np.trace(array))\n",
    " \n",
    "# Determinant of a matrix\n",
    "print(\"\\nDeterminant of A:\", np.linalg.det(array))"
   ]
  },
  {
   "cell_type": "code",
   "execution_count": null,
   "id": "1564792d",
   "metadata": {},
   "outputs": [],
   "source": []
  }
 ],
 "metadata": {
  "kernelspec": {
   "display_name": "Python 3 (ipykernel)",
   "language": "python",
   "name": "python3"
  },
  "language_info": {
   "codemirror_mode": {
    "name": "ipython",
    "version": 3
   },
   "file_extension": ".py",
   "mimetype": "text/x-python",
   "name": "python",
   "nbconvert_exporter": "python",
   "pygments_lexer": "ipython3",
   "version": "3.11.5"
  }
 },
 "nbformat": 4,
 "nbformat_minor": 5
}
