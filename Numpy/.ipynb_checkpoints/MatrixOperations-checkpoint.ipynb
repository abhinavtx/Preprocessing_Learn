{
 "cells": [
  {
   "cell_type": "code",
   "execution_count": 1,
   "id": "8741536b",
   "metadata": {},
   "outputs": [],
   "source": [
    "# Matrix Manipulation"
   ]
  },
  {
   "cell_type": "code",
   "execution_count": 14,
   "id": "2f77bbeb",
   "metadata": {},
   "outputs": [
    {
     "name": "stdout",
     "output_type": "stream",
     "text": [
      "[[ 5 12]\n",
      " [21 32]]\n",
      "[[ 5 12]\n",
      " [21 32]]\n"
     ]
    }
   ],
   "source": [
    "import numpy as np\n",
    "mat1= np.array([[1,2],[3,4]])\n",
    "mat2 = np.array([[5,6],[7,8]])\n",
    "mult = np.multiply(mat1,mat2)\n",
    "multi = mat1 * mat2\n",
    "print(mult)\n",
    "print(multi)"
   ]
  },
  {
   "cell_type": "code",
   "execution_count": 37,
   "id": "e2c43106",
   "metadata": {},
   "outputs": [
    {
     "name": "stdout",
     "output_type": "stream",
     "text": [
      "[[19 22]\n",
      " [43 50]]\n",
      "Using the division operator\n",
      " [[0.2        0.33333333]\n",
      " [0.42857143 0.5       ]]\n"
     ]
    }
   ],
   "source": [
    "# We can use our own normal operator and also numpy functions\n",
    "# For matrix multiplication use:\n",
    "print(np.dot(mat1, mat2))\n",
    "print(\"Using the division operator\\n\", np.divide(mat1, mat2))"
   ]
  },
  {
   "cell_type": "code",
   "execution_count": 20,
   "id": "d3fd350e",
   "metadata": {},
   "outputs": [
    {
     "name": "stdout",
     "output_type": "stream",
     "text": [
      "[[ 6  8]\n",
      " [10 12]]\n"
     ]
    }
   ],
   "source": [
    "print(np.sum((mat1,mat2), axis = 0)) # Input the array in the form of a tuple and then specify the axis\n",
    "# Use command np.sum not np.add"
   ]
  },
  {
   "cell_type": "code",
   "execution_count": 34,
   "id": "5dfbf8ec",
   "metadata": {},
   "outputs": [
    {
     "name": "stdout",
     "output_type": "stream",
     "text": [
      "[10 26]\n",
      "[[1 5]\n",
      " [2 6]\n",
      " [3 7]\n",
      " [4 8]]\n"
     ]
    }
   ],
   "source": [
    "# For operations on matrix in it\n",
    "lis1 = np.array([[1,2,3,4],[5,6,7,8]])\n",
    "print(np.sum(lis1, axis = 1))\n",
    "print(lis1.T) # This command gives transpose of the original matrix"
   ]
  },
  {
   "cell_type": "code",
   "execution_count": 50,
   "id": "36debe48",
   "metadata": {},
   "outputs": [
    {
     "name": "stdout",
     "output_type": "stream",
     "text": [
      "[ 1.61168440e+01 -1.11684397e+00 -3.38433605e-16]\n"
     ]
    }
   ],
   "source": [
    "## Now finding eigen values of a matrix\n",
    "from numpy import linalg as LA \n",
    "# using np.eigvals() method \n",
    "egVal = LA.eigvals([[1, 2, 3], [4, 5, 6], [7, 8, 9]]) \n",
    "print(egVal)\n",
    "# It takes a square matrix"
   ]
  },
  {
   "cell_type": "code",
   "execution_count": 63,
   "id": "cca82ad2",
   "metadata": {},
   "outputs": [
    {
     "name": "stdout",
     "output_type": "stream",
     "text": [
      "-4\n"
     ]
    }
   ],
   "source": [
    "# Finding determinant\n",
    "import math\n",
    "sqMat = np.array([[1,2],[5,6]])\n",
    "deter = np.linalg.det(sqMat)\n",
    "print(math.floor(deter))"
   ]
  },
  {
   "cell_type": "code",
   "execution_count": 64,
   "id": "6a637d0e",
   "metadata": {},
   "outputs": [],
   "source": [
    "## Using Command of np.matrix"
   ]
  },
  {
   "cell_type": "code",
   "execution_count": 66,
   "id": "21e0b627",
   "metadata": {},
   "outputs": [
    {
     "name": "stdout",
     "output_type": "stream",
     "text": [
      "[[1 2 3]\n",
      " [4 5 6]\n",
      " [7 8 9]]\n"
     ]
    }
   ],
   "source": [
    "mat = np.matrix([[1,2,3],[4,5,6],[7,8,9]])\n",
    "print(mat)"
   ]
  },
  {
   "cell_type": "code",
   "execution_count": 74,
   "id": "7f04d5f2",
   "metadata": {},
   "outputs": [
    {
     "name": "stdout",
     "output_type": "stream",
     "text": [
      "Original Matrix \n",
      " [[1 2 3]\n",
      " [4 5 6]\n",
      " [7 8 9]]\n",
      "The determinant of this matrix is:  -9.51619735392994e-16\n",
      "Printing inverse of matrix\n",
      " [[ 3.15251974e+15 -6.30503948e+15  3.15251974e+15]\n",
      " [-6.30503948e+15  1.26100790e+16 -6.30503948e+15]\n",
      " [ 3.15251974e+15 -6.30503948e+15  3.15251974e+15]]\n"
     ]
    }
   ],
   "source": [
    "print(\"Original Matrix \\n\",mat)\n",
    "print(\"The determinant of this matrix is: \", np.linalg.det(mat))\n",
    "print(\"Printing inverse of matrix\\n\", np.linalg.inv(mat)) # Only possible if determinant is not zero"
   ]
  },
  {
   "cell_type": "code",
   "execution_count": null,
   "id": "5f933c05",
   "metadata": {},
   "outputs": [],
   "source": []
  }
 ],
 "metadata": {
  "kernelspec": {
   "display_name": "Python 3 (ipykernel)",
   "language": "python",
   "name": "python3"
  },
  "language_info": {
   "codemirror_mode": {
    "name": "ipython",
    "version": 3
   },
   "file_extension": ".py",
   "mimetype": "text/x-python",
   "name": "python",
   "nbconvert_exporter": "python",
   "pygments_lexer": "ipython3",
   "version": "3.11.5"
  }
 },
 "nbformat": 4,
 "nbformat_minor": 5
}
