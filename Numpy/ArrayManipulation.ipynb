{
 "cells": [
  {
   "cell_type": "markdown",
   "id": "0e8a048c",
   "metadata": {},
   "source": [
    "# Array Manipulation"
   ]
  },
  {
   "cell_type": "markdown",
   "id": "8af20c3c",
   "metadata": {},
   "source": [
    "### Copy and View"
   ]
  },
  {
   "cell_type": "code",
   "execution_count": 1,
   "id": "e984a974",
   "metadata": {},
   "outputs": [
    {
     "name": "stdout",
     "output_type": "stream",
     "text": [
      "The id of arr1 is  1845284227280\n",
      "The id of shallow copy of ar1 is  1845284227280\n",
      "[1 2 3 4]\n",
      "[1 2 3 4]\n"
     ]
    }
   ],
   "source": [
    "# Concept of view and copy\n",
    "#. No copy by assigning\n",
    "import numpy as np\n",
    "arr = np.array([1,2,3,4])\n",
    "arrC = arr\n",
    "print(\"The id of arr1 is \",id(arr))\n",
    "print(\"The id of shallow copy of ar1 is \",id(arrC))\n",
    "print(arr)\n",
    "print(arrC)\n"
   ]
  },
  {
   "cell_type": "code",
   "execution_count": 2,
   "id": "6a15f16b",
   "metadata": {},
   "outputs": [
    {
     "name": "stdout",
     "output_type": "stream",
     "text": [
      "[1 2 5 4]\n",
      "[1 2 5 4]\n"
     ]
    }
   ],
   "source": [
    "arr[2] = 5\n",
    "print(arr)\n",
    "print(arrC) # Both are changed"
   ]
  },
  {
   "cell_type": "code",
   "execution_count": 3,
   "id": "d9b0ac3a",
   "metadata": {},
   "outputs": [
    {
     "name": "stdout",
     "output_type": "stream",
     "text": [
      "The id of view is 1845289070160\n",
      "The id of original is 1845284227280\n",
      "[1 2 5 4]\n",
      "[1 2 8 4]\n",
      "[1 2 8 4]\n"
     ]
    }
   ],
   "source": [
    "# Now making view \n",
    "# This is the view of the original array and does not have its own data\n",
    "# This is the shallow copy\n",
    "viewArr = arr.view()\n",
    "print(\"The id of view is\",id(viewArr))\n",
    "print(\"The id of original is\",id(arr))\n",
    "print(viewArr)\n",
    "viewArr[2] = 8\n",
    "print(viewArr)\n",
    "print(arr)\n",
    "# In this they have different address but changing one thing will also change the other"
   ]
  },
  {
   "cell_type": "code",
   "execution_count": 4,
   "id": "03fded1c",
   "metadata": {},
   "outputs": [
    {
     "name": "stdout",
     "output_type": "stream",
     "text": [
      "[ 1  2  8 10]\n",
      "[1 2 8 4]\n",
      "None\n"
     ]
    }
   ],
   "source": [
    "copyArr = arr.copy() # This is the command for making another copy of array\n",
    "arr[3] = 10\n",
    "print(arr)\n",
    "print(copyArr)\n",
    "print(copyArr.base)"
   ]
  },
  {
   "cell_type": "markdown",
   "id": "4adc18d4",
   "metadata": {},
   "source": [
    "### Appending values in numpy array"
   ]
  },
  {
   "cell_type": "code",
   "execution_count": 14,
   "id": "bf30ea6b",
   "metadata": {},
   "outputs": [
    {
     "name": "stdout",
     "output_type": "stream",
     "text": [
      "Original Array :  [1 8 3 3 5]\n",
      "Array after appending :  [1 8 3 3 5 7 5]\n"
     ]
    }
   ],
   "source": [
    "arr = np.array([1, 8, 3, 3, 5])\n",
    "print('Original Array : ', arr)\n",
    " \n",
    "# appending to the array\n",
    "arr = np.append(arr, [7,5])  # In the arguement give the name of original array anf list of items to be added\n",
    "print('Array after appending : ', arr)"
   ]
  },
  {
   "cell_type": "code",
   "execution_count": 37,
   "id": "39bf47c3",
   "metadata": {},
   "outputs": [
    {
     "name": "stdout",
     "output_type": "stream",
     "text": [
      "[[ 1  5  7]\n",
      " [ 4  8 10]]\n",
      "[[ 1  5  7  5  7 10]\n",
      " [ 4  8 10  4  5  6]]\n"
     ]
    }
   ],
   "source": [
    "arr2D = np.array([[1,5,7], [4,8,10]])\n",
    "print(arr2D)\n",
    "arrEx = np.array([[5,7,10], [4,5,6]])\n",
    "newArr2d = np.append(arr2D, arrEx, axis = 1) # By using append it will always give a 1d array\n",
    "print(newArr2d)"
   ]
  },
  {
   "cell_type": "code",
   "execution_count": 36,
   "id": "b23ab4e8",
   "metadata": {},
   "outputs": [
    {
     "name": "stdout",
     "output_type": "stream",
     "text": [
      "[[1 8 3]\n",
      " [3 5 7]]\n",
      "[['1' '8' '3']\n",
      " ['3' '5' '7']\n",
      " ['g' 'g' 'g']\n",
      " ['g' 'g' 'g']]\n"
     ]
    }
   ],
   "source": [
    "arr = np.array([[1, 8, 3], [3,5,7]])\n",
    "print(arr)\n",
    "arr2 = np.array([['g','g','g'], ['g','g','g'] ]) \n",
    "combinedArr = np.concatenate((arr, arr2), axis = 0)\n",
    "print(combinedArr)\n",
    "# When joining it converts the previous array also into the same type as of this"
   ]
  },
  {
   "cell_type": "code",
   "execution_count": 43,
   "id": "f2bfaee9",
   "metadata": {},
   "outputs": [],
   "source": [
    "# Concatenate is one of the method for joining of arrays\n",
    "# For arguement it takes a tuple of arrays and the axis"
   ]
  },
  {
   "cell_type": "code",
   "execution_count": 45,
   "id": "8a15877a",
   "metadata": {},
   "outputs": [
    {
     "name": "stdout",
     "output_type": "stream",
     "text": [
      "Vertical stack:  [[ 1  8  3  3  5]\n",
      " [ 5  4 85  1 45]]\n",
      "Horizontal Stack [ 1  8  3  3  5  5  4 85  1 45]\n",
      "[[ 1  8  3  3  5]\n",
      " [ 5  4 85  1 45]]\n"
     ]
    }
   ],
   "source": [
    "arr1 = np.array([1, 8, 3, 3, 5])\n",
    "arr2 = np.array([5,4,85,1,45])\n",
    "newArr = np.vstack((arr1, arr2))\n",
    "newArr2 = np.hstack((arr1, arr2))\n",
    "newarr3 = np.stack((arr1, arr2), axis = 0)\n",
    "# Takes input as a tuple of arrays\n",
    "print(\"Vertical stack: \", newArr)\n",
    "print(\"Horizontal Stack\", newArr2)\n",
    "print(newarr3)"
   ]
  },
  {
   "cell_type": "code",
   "execution_count": 46,
   "id": "881fb8ea",
   "metadata": {},
   "outputs": [],
   "source": [
    "# Third method is by numpy.block"
   ]
  },
  {
   "cell_type": "markdown",
   "id": "da4b76f6",
   "metadata": {},
   "source": [
    "#### Splitting of NumPy arrays"
   ]
  },
  {
   "cell_type": "code",
   "execution_count": 47,
   "id": "22d1a38e",
   "metadata": {},
   "outputs": [
    {
     "data": {
      "text/plain": [
       "'\\nSplit numpy array using numpy.split()\\nSplit numpy array using numpy.array_split()\\nSplitting NumPy 2D Arrays\\nSplit numpy array using numpy.vsplit()\\nSplit numpy array using numpyhsplit()\\nSplit numpy arrayusing numpy.dsplit()\\n'"
      ]
     },
     "execution_count": 47,
     "metadata": {},
     "output_type": "execute_result"
    }
   ],
   "source": [
    "\"\"\"\n",
    "Split numpy array using numpy.split()\n",
    "Split numpy array using numpy.array_split()\n",
    "Splitting NumPy 2D Arrays\n",
    "Split numpy array using numpy.vsplit()\n",
    "Split numpy array using numpyhsplit()\n",
    "Split numpy arrayusing numpy.dsplit()\n",
    "\"\"\""
   ]
  },
  {
   "cell_type": "code",
   "execution_count": 52,
   "id": "29ba1975",
   "metadata": {},
   "outputs": [
    {
     "name": "stdout",
     "output_type": "stream",
     "text": [
      "Array:\n",
      "[0 1 2 3 4 5]\n",
      "Result after numpy.split():\n",
      "[array([0, 1]), array([2, 3]), array([4, 5])]\n"
     ]
    }
   ],
   "source": [
    "array = np.arange(6)\n",
    "# Splitting the array into 2 equal parts along the first axis (axis=0)\n",
    "result = np.split(array, 3)\n",
    "\n",
    "print(\"Array:\")\n",
    "print(array)\n",
    "print(\"Result after numpy.split():\")\n",
    "print(result)\n"
   ]
  },
  {
   "cell_type": "code",
   "execution_count": 53,
   "id": "9ce5f26e",
   "metadata": {},
   "outputs": [
    {
     "name": "stdout",
     "output_type": "stream",
     "text": [
      "Array:\n",
      "[0 1 2 3 4 5]\n",
      "Result after numpy.split():\n",
      "[array([0, 1]), array([2, 3]), array([4]), array([5])]\n"
     ]
    }
   ],
   "source": [
    "array = np.arange(6)\n",
    "# Splitting the array into 4 uNequal parts along the first axis (axis=0)\n",
    "result = np.array_split(array, 4)\n",
    "\n",
    "print(\"Array:\")\n",
    "print(array)\n",
    "print(\"Result after numpy.split():\")\n",
    "print(result)\n"
   ]
  },
  {
   "cell_type": "code",
   "execution_count": 61,
   "id": "a21e2859",
   "metadata": {},
   "outputs": [
    {
     "name": "stdout",
     "output_type": "stream",
     "text": [
      "2D Array:\n",
      "[[3 2 1]\n",
      " [8 9 7]\n",
      " [4 6 5]]\n",
      "\n",
      "Result after numpy.split() along axis=1:\n",
      "[array([[3],\n",
      "       [8],\n",
      "       [4]]), array([[2],\n",
      "       [9],\n",
      "       [6]]), array([[1],\n",
      "       [7],\n",
      "       [5]])]\n"
     ]
    }
   ],
   "source": [
    "# Creating a 2D array\n",
    "array = np.array([[3, 2, 1], [8, 9, 7], [4, 6, 5]])\n",
    "\n",
    "# Splitting the array into 3 equal parts along the second axis (axis=1)\n",
    "result = np.split(array, 3, axis = 1)\n",
    "\n",
    "print(\"2D Array:\")\n",
    "print(array)\n",
    "print(\"\\nResult after numpy.split() along axis=1:\")\n",
    "print(result)\n",
    "# 3,8,4 are one array and similarly others"
   ]
  },
  {
   "cell_type": "markdown",
   "id": "3529faef",
   "metadata": {},
   "source": [
    "### Comparison of values in NumPy"
   ]
  },
  {
   "cell_type": "code",
   "execution_count": 80,
   "id": "b497fa35",
   "metadata": {},
   "outputs": [
    {
     "name": "stdout",
     "output_type": "stream",
     "text": [
      "[[ True  True]\n",
      " [False False]]\n",
      "Result conclusion is:  False\n",
      "False\n"
     ]
    }
   ],
   "source": [
    "an_array = np.array([[1, 2], [3, 4]])\n",
    "another_array = np.array([[1, 2], [4, 3]])\n",
    "\n",
    "print(another_array == an_array)\n",
    "# This tells us about the relation with list items individually in the given manner\n",
    "# To make net decision use:\n",
    "compar = another_array == an_array\n",
    "print(\"Result conclusion is: \",compar.all())\n",
    "# Another way is using \n",
    "print(np.array_equal(an_array, another_array))"
   ]
  },
  {
   "cell_type": "code",
   "execution_count": 83,
   "id": "abc18426",
   "metadata": {},
   "outputs": [
    {
     "name": "stdout",
     "output_type": "stream",
     "text": [
      "[[ True False False]\n",
      " [False  True False]]\n",
      "Hello\n",
      "[[False  True  True]\n",
      " [ True False  True]]\n"
     ]
    }
   ],
   "source": [
    "arr1 = np.array([[1,2,3],[4,5,6]])\n",
    "arrX = np.array([[5,2,3],[4,8,6]])\n",
    "compari = arr1 < arrX\n",
    "print(compari)\n",
    "print(\"Hello\")\n",
    "print(np.greater_equal(arr1, arrX))"
   ]
  },
  {
   "cell_type": "markdown",
   "id": "125e0fd7",
   "metadata": {},
   "source": [
    "### Union of Arrays"
   ]
  },
  {
   "cell_type": "code",
   "execution_count": 88,
   "id": "58fb94bb",
   "metadata": {},
   "outputs": [
    {
     "name": "stdout",
     "output_type": "stream",
     "text": [
      "[ 1  2  5  7 89 90]\n"
     ]
    }
   ],
   "source": [
    "# Union of 1d array and also convert into 1d\n",
    "arr1 = np.array([[1,2], [89,5]])\n",
    "arr2 = np.array([[5,7],[90,1]])\n",
    "print(np.union1d(arr1,arr2))"
   ]
  },
  {
   "cell_type": "code",
   "execution_count": 90,
   "id": "c7591cfc",
   "metadata": {},
   "outputs": [
    {
     "name": "stdout",
     "output_type": "stream",
     "text": [
      "[[ 5  7]\n",
      " [90  1]]\n"
     ]
    }
   ],
   "source": [
    "arrT = np.array(([5,7],[90,1])) # We can also input list of lists or tuple of lists\n",
    "print(arrT)"
   ]
  },
  {
   "cell_type": "code",
   "execution_count": 94,
   "id": "90436647",
   "metadata": {},
   "outputs": [
    {
     "name": "stdout",
     "output_type": "stream",
     "text": [
      "(array([ 1,  2,  3,  4,  5,  6,  7,  8, 18]), array([0, 1, 2, 3, 4, 5, 6, 3, 4, 7, 0, 8], dtype=int64), array([2, 1, 1, 2, 2, 1, 1, 1, 1], dtype=int64))\n"
     ]
    }
   ],
   "source": [
    "## Finding unique rows from a 2d matrix\n",
    "## Similarly it is for 1d array\n",
    "array2D = np.array([[1,2,3,4], [5,6,7,4], [5,8,1,18]])\n",
    "print(np.unique(array2D, return_counts= True, return_inverse= True))"
   ]
  },
  {
   "cell_type": "code",
   "execution_count": 104,
   "id": "7bfaf7ce",
   "metadata": {},
   "outputs": [
    {
     "name": "stdout",
     "output_type": "stream",
     "text": [
      "[1 2 3 4 5]\n",
      "[1 2 3 4 5 0 0 0]\n"
     ]
    }
   ],
   "source": [
    "# Trimming of zeros\n",
    "# It means removing 0 from front or from end\n",
    "zeroArray = np.array([0,0,0,0,1,2,3,4,5,0,0,0,])\n",
    "print(np.trim_zeros(zeroArray,\"bf\"))\n",
    "print(np.trim_zeros(zeroArray,\"f\"))"
   ]
  },
  {
   "cell_type": "code",
   "execution_count": null,
   "id": "b86d44ac",
   "metadata": {},
   "outputs": [],
   "source": []
  }
 ],
 "metadata": {
  "kernelspec": {
   "display_name": "Python 3 (ipykernel)",
   "language": "python",
   "name": "python3"
  },
  "language_info": {
   "codemirror_mode": {
    "name": "ipython",
    "version": 3
   },
   "file_extension": ".py",
   "mimetype": "text/x-python",
   "name": "python",
   "nbconvert_exporter": "python",
   "pygments_lexer": "ipython3",
   "version": "3.11.5"
  }
 },
 "nbformat": 4,
 "nbformat_minor": 5
}
