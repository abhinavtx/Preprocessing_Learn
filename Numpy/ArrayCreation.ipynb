{
 "cells": [
  {
   "cell_type": "markdown",
   "id": "4014bc76",
   "metadata": {},
   "source": [
    "# Learning Numpy Creation"
   ]
  },
  {
   "cell_type": "code",
   "execution_count": 1,
   "id": "2f38dd9a",
   "metadata": {},
   "outputs": [
    {
     "data": {
      "text/plain": [
       "'\\nConversion from other Python structures (i.e. lists and tuples)\\n\\nIntrinsic NumPy array creation functions (e.g. arange, ones, zeros, etc.)\\n\\nReplicating, joining, or mutating existing arrays\\n\\nReading arrays from disk, either from standard or custom formats\\n\\nCreating arrays from raw bytes through the use of strings or buffers\\n\\nUse of special library functions e.g., random\\n'"
      ]
     },
     "execution_count": 1,
     "metadata": {},
     "output_type": "execute_result"
    }
   ],
   "source": [
    "# NumPy is homogenous multidimensional array\n",
    "# Note -> \n",
    "# Techniques for making Numpy\n",
    "\"\"\"\n",
    "Conversion from other Python structures (i.e. lists and tuples)\n",
    "\n",
    "Intrinsic NumPy array creation functions (e.g. arange, ones, zeros, etc.)\n",
    "\n",
    "Replicating, joining, or mutating existing arrays\n",
    "\n",
    "Reading arrays from disk, either from standard or custom formats\n",
    "\n",
    "Creating arrays from raw bytes through the use of strings or buffers\n",
    "\n",
    "Use of special library functions e.g., random\n",
    "\"\"\""
   ]
  },
  {
   "cell_type": "code",
   "execution_count": 2,
   "id": "29b623a9",
   "metadata": {},
   "outputs": [],
   "source": [
    "import numpy as np"
   ]
  },
  {
   "cell_type": "code",
   "execution_count": 3,
   "id": "dd478cd8",
   "metadata": {},
   "outputs": [],
   "source": [
    "# Creation of numpy array from list"
   ]
  },
  {
   "cell_type": "code",
   "execution_count": 4,
   "id": "4f46f662",
   "metadata": {},
   "outputs": [
    {
     "name": "stdout",
     "output_type": "stream",
     "text": [
      "<class 'numpy.ndarray'>\n",
      "1\n",
      "1 2 3 4 "
     ]
    }
   ],
   "source": [
    "npList = np.array([1,2,3,4])\n",
    "print(type(npList))\n",
    "print(npList.ndim)\n",
    "for i in npList:\n",
    "    print(i, end = \" \")"
   ]
  },
  {
   "cell_type": "code",
   "execution_count": 5,
   "id": "bb27e729",
   "metadata": {},
   "outputs": [
    {
     "name": "stdout",
     "output_type": "stream",
     "text": [
      "<class 'numpy.ndarray'>\n",
      "2\n"
     ]
    },
    {
     "data": {
      "text/plain": [
       "array([1, 2, 3])"
      ]
     },
     "execution_count": 5,
     "metadata": {},
     "output_type": "execute_result"
    }
   ],
   "source": [
    "a2d = np.array([[1,2], [3,4], [5,6]])\n",
    "# Here list of list will give 2d numpy array\n",
    "# np.array takes input as a list then in that list we are giving multiple lists\n",
    "print(type(a2d))\n",
    "print(a2d.ndim)\n",
    "a2d\n",
    "\n",
    "# Now making numpy array from tuple\n",
    "tupArr = np.array((1,2,3))\n",
    "tupArr"
   ]
  },
  {
   "cell_type": "code",
   "execution_count": 6,
   "id": "75fe6daf",
   "metadata": {},
   "outputs": [],
   "source": [
    "# Usage of dtype in numpy --> It tells about the datatype object"
   ]
  },
  {
   "cell_type": "code",
   "execution_count": 7,
   "id": "1bb0def4",
   "metadata": {},
   "outputs": [
    {
     "name": "stdout",
     "output_type": "stream",
     "text": [
      "3 6\n"
     ]
    }
   ],
   "source": [
    "# Indexing of elements in numpy arrays\n",
    "elem1 = npList[2]\n",
    "elem2 = a2d[2,1] # This is a 2d array so this is the way for accessing 2d arrays\n",
    "print(elem1, elem2)"
   ]
  },
  {
   "cell_type": "code",
   "execution_count": 8,
   "id": "4f9f6e94",
   "metadata": {},
   "outputs": [
    {
     "data": {
      "text/plain": [
       "array([12, 15, 17], dtype=int8)"
      ]
     },
     "execution_count": 8,
     "metadata": {},
     "output_type": "execute_result"
    }
   ],
   "source": [
    "ab = np.array([12,15,17], dtype = np.int8)\n",
    "# Here dtype tells about the data type\n",
    "# Here we have assigned the data type on our own\n",
    "# Here it means that it of type int and represented by 8 bit signed integer\n",
    "ab"
   ]
  },
  {
   "cell_type": "code",
   "execution_count": 9,
   "id": "7e3173af",
   "metadata": {},
   "outputs": [
    {
     "name": "stdout",
     "output_type": "stream",
     "text": [
      "[131 680   0]\n",
      "[159 836 954]\n",
      "<class 'numpy.ndarray'> uint32\n",
      "[  2030  59124 227529]\n"
     ]
    }
   ],
   "source": [
    "numb1 = np.array([145,758,477], dtype = np.uint32) # this is unsigned int which has double the range but only in positive\n",
    "numb2= np.array([14,78,477], dtype = np.uint32) # This is called forcing a data type\n",
    "dif = numb1 - numb2\n",
    "add = numb1 + numb2\n",
    "mul = numb1 * numb2\n",
    "print(dif)\n",
    "print(add)\n",
    "print(type(add), add.dtype)\n",
    "print(mul)"
   ]
  },
  {
   "cell_type": "code",
   "execution_count": 10,
   "id": "aab20550",
   "metadata": {},
   "outputs": [
    {
     "name": "stdout",
     "output_type": "stream",
     "text": [
      "[False False  True]\n"
     ]
    }
   ],
   "source": [
    "print(numb1 == numb2)\n",
    "# In this way we can directly compare also about the contents of "
   ]
  },
  {
   "cell_type": "markdown",
   "id": "b131f3ba",
   "metadata": {},
   "source": [
    "# Intrinsic NumPy array creation"
   ]
  },
  {
   "cell_type": "code",
   "execution_count": 11,
   "id": "f543a70c",
   "metadata": {},
   "outputs": [
    {
     "name": "stdout",
     "output_type": "stream",
     "text": [
      "[0 1 2 3 4 5 6 7 8 9]\n",
      "[ 5  6  7  8  9 10 11 12 13 14]\n"
     ]
    }
   ],
   "source": [
    "number = np.arange(10)\n",
    "number2 = np.arange(5,15)\n",
    "# Takes 2 input start and stop\n",
    "# Last number not considered\n",
    "print(number)\n",
    "print(number2)"
   ]
  },
  {
   "cell_type": "code",
   "execution_count": 12,
   "id": "3df3f98e",
   "metadata": {},
   "outputs": [
    {
     "name": "stdout",
     "output_type": "stream",
     "text": [
      "[ 1.          6.44444444 11.88888889 17.33333333 22.77777778 28.22222222\n",
      " 33.66666667 39.11111111 44.55555556 50.        ]\n"
     ]
    }
   ],
   "source": [
    "# linspace used to create elements within a certain range and a number of them\n",
    "# It takes 3 arguements with range and make 10 elements in numpy array, equally spaced from each other\n",
    "someNum = np.linspace(1,50,10)\n",
    "print(someNum)"
   ]
  },
  {
   "cell_type": "code",
   "execution_count": 13,
   "id": "ba41bb10",
   "metadata": {},
   "outputs": [
    {
     "data": {
      "text/plain": [
       "array([1, 3, 5, 7, 9])"
      ]
     },
     "execution_count": 13,
     "metadata": {},
     "output_type": "execute_result"
    }
   ],
   "source": [
    "# np.arange create array with incrementing values\n",
    "arangingArray = np.arange(1,10,2)\n",
    "arangingArray"
   ]
  },
  {
   "cell_type": "code",
   "execution_count": 14,
   "id": "aa1a25c6",
   "metadata": {},
   "outputs": [],
   "source": [
    "# np.eye defines 2d matrix with i = j as 1 else 0"
   ]
  },
  {
   "cell_type": "code",
   "execution_count": 15,
   "id": "dd73d152",
   "metadata": {},
   "outputs": [
    {
     "data": {
      "text/plain": [
       "array([[1., 0., 0., 0.],\n",
       "       [0., 1., 0., 0.],\n",
       "       [0., 0., 1., 0.],\n",
       "       [0., 0., 0., 1.]])"
      ]
     },
     "execution_count": 15,
     "metadata": {},
     "output_type": "execute_result"
    }
   ],
   "source": [
    "eyeMatrix = np.eye(4) \n",
    "eyeMatrix"
   ]
  },
  {
   "cell_type": "code",
   "execution_count": 16,
   "id": "15cad92d",
   "metadata": {},
   "outputs": [
    {
     "name": "stdout",
     "output_type": "stream",
     "text": [
      "[[1 0 0]\n",
      " [0 2 0]\n",
      " [0 0 3]]\n",
      "Space Here\n",
      "[1 4]\n",
      "The dimension of mat1 is 2\n",
      "The dimension of mat2 is 1\n",
      "[[0 0 1 0 0 0]\n",
      " [0 0 0 2 0 0]\n",
      " [0 0 0 0 3 0]\n",
      " [0 0 0 0 0 4]\n",
      " [0 0 0 0 0 0]\n",
      " [0 0 0 0 0 0]]\n"
     ]
    }
   ],
   "source": [
    "mat1 = np.diag([1,2,3])\n",
    "mat2 = np.diag([[1,2], [3,4]])\n",
    "print(mat1)\n",
    "print(\"Space Here\")\n",
    "print(mat2)\n",
    "print(f'The dimension of mat1 is {np.ndim(mat1)}')\n",
    "print(f'The dimension of mat2 is {np.ndim(mat2)}')\n",
    "mat3 = np.diag([1,2,3,4],2) # This code adds n number of rows in left of the matrix and n number of rows at the bottom\n",
    "print(mat3)"
   ]
  },
  {
   "cell_type": "code",
   "execution_count": 17,
   "id": "6b499a64",
   "metadata": {},
   "outputs": [],
   "source": [
    "# In np.diag if given only 1d array then it creates a 2d matrix with diagonal elements as the list elements\n",
    "# If given a 2d array then gives "
   ]
  },
  {
   "cell_type": "code",
   "execution_count": 18,
   "id": "895fb201",
   "metadata": {},
   "outputs": [
    {
     "data": {
      "text/plain": [
       "array([[0., 0., 0.],\n",
       "       [0., 0., 0.]])"
      ]
     },
     "execution_count": 18,
     "metadata": {},
     "output_type": "execute_result"
    }
   ],
   "source": [
    "np.zeros((2, 3)) # For creation of 2d matrix with 2 rows and 3 columns of zeros"
   ]
  },
  {
   "cell_type": "code",
   "execution_count": 19,
   "id": "006f1417",
   "metadata": {},
   "outputs": [
    {
     "data": {
      "text/plain": [
       "array([1.34930755e-311, 0.00000000e+000, 6.95271921e-310])"
      ]
     },
     "execution_count": 19,
     "metadata": {},
     "output_type": "execute_result"
    }
   ],
   "source": [
    "np.empty(3) # Random matrix "
   ]
  },
  {
   "cell_type": "code",
   "execution_count": 20,
   "id": "9509f69a",
   "metadata": {},
   "outputs": [
    {
     "name": "stdout",
     "output_type": "stream",
     "text": [
      "[ 0  1  2  3  4  5  6  7  8  9 10 11]\n"
     ]
    },
    {
     "data": {
      "text/plain": [
       "array([[ 0,  1,  2],\n",
       "       [ 3,  4,  5],\n",
       "       [ 6,  7,  8],\n",
       "       [ 9, 10, 11]])"
      ]
     },
     "execution_count": 20,
     "metadata": {},
     "output_type": "execute_result"
    }
   ],
   "source": [
    "# Using of reshape is to change the dimensions of it\n",
    "reshapeArr = np.arange(12)\n",
    "print(reshapeArr)\n",
    "reshapeArr.reshape(4,3) # Here the product of these should be equal to the number of elements in original array\n",
    "# Reshapes into mxn matrix where m is number of rows and n is number of columns"
   ]
  },
  {
   "cell_type": "code",
   "execution_count": 21,
   "id": "7f8da435",
   "metadata": {},
   "outputs": [],
   "source": [
    "arr = np.array( [[ 1, 2, 3], \n",
    "                 [ 4, 2, 5]] )"
   ]
  },
  {
   "cell_type": "code",
   "execution_count": 22,
   "id": "043dc41c",
   "metadata": {},
   "outputs": [
    {
     "name": "stdout",
     "output_type": "stream",
     "text": [
      "Size of array is:  6\n",
      "Shape of array is:  (2, 3)\n"
     ]
    }
   ],
   "source": [
    "print(\"Size of array is: \", arr.size) # It gives about the total number of elements\n",
    "print(\"Shape of array is: \", arr.shape)"
   ]
  },
  {
   "cell_type": "code",
   "execution_count": 23,
   "id": "877d54ba",
   "metadata": {},
   "outputs": [
    {
     "name": "stdout",
     "output_type": "stream",
     "text": [
      "[ 0  1  4  9 16 25 36 49 64 81]\n"
     ]
    }
   ],
   "source": [
    "iterable = (a*a for a in range(10))\n",
    "iterArr = np.fromiter(iterable, int)\n",
    "print(iterArr)"
   ]
  },
  {
   "cell_type": "code",
   "execution_count": 32,
   "id": "1d3b07f2",
   "metadata": {},
   "outputs": [
    {
     "name": "stdout",
     "output_type": "stream",
     "text": [
      "[[0.50169937 0.34314059 0.7887689  0.75392245]\n",
      " [0.30127692 0.71632243 0.84562387 0.36179508]\n",
      " [0.90557852 0.37365934 0.15263933 0.10687895]]\n",
      "0.9055785210880478\n",
      "8\n",
      "[0.43395175 0.43180602 0.20812711 0.59964367]\n",
      "3\n"
     ]
    }
   ],
   "source": [
    "randArr = np.random.rand(3,4)\n",
    "randArr2 = np.random.rand(4)\n",
    "print(randArr)\n",
    "maxi = randArr.max()\n",
    "indMax = randArr.argmax()\n",
    "print(maxi)\n",
    "print(indMax)\n",
    "print(randArr2)\n",
    "print(randArr2.argmax())"
   ]
  },
  {
   "cell_type": "code",
   "execution_count": 34,
   "id": "49e41ae5",
   "metadata": {},
   "outputs": [
    {
     "name": "stdout",
     "output_type": "stream",
     "text": [
      "[[7 7 7 7]\n",
      " [7 7 7 7]\n",
      " [7 7 7 7]]\n",
      "[[0. 0. 0. 0.]\n",
      " [0. 0. 0. 0.]\n",
      " [0. 0. 0. 0.]]\n"
     ]
    }
   ],
   "source": [
    "# Creating a full array\n",
    "npFull = np.full((3,4), 7)\n",
    "print(npFull)\n",
    "npZero = np.zeros([3,4])\n",
    "print(npZero)"
   ]
  },
  {
   "cell_type": "code",
   "execution_count": 36,
   "id": "9a287655",
   "metadata": {},
   "outputs": [
    {
     "name": "stdout",
     "output_type": "stream",
     "text": [
      "[(101, 'Jitender', 21) (102, 'Deepak', 20)]\n",
      "['Jitender' 'Deepak']\n",
      "<class 'numpy.recarray'>\n",
      "<class 'numpy.ndarray'>\n"
     ]
    }
   ],
   "source": [
    "gfg = np.core.records.fromrecords([(101, 'Jitender', 21), \n",
    "                                    (102, 'Deepak', 20)], \n",
    "                             names = 'Rollno, Name, Age') \n",
    "print(gfg)  \n",
    "print(gfg.Name)\n",
    "print(type(gfg))\n",
    "print(type(npZero))"
   ]
  },
  {
   "cell_type": "code",
   "execution_count": null,
   "id": "3da878d1",
   "metadata": {},
   "outputs": [],
   "source": []
  }
 ],
 "metadata": {
  "kernelspec": {
   "display_name": "Python 3 (ipykernel)",
   "language": "python",
   "name": "python3"
  },
  "language_info": {
   "codemirror_mode": {
    "name": "ipython",
    "version": 3
   },
   "file_extension": ".py",
   "mimetype": "text/x-python",
   "name": "python",
   "nbconvert_exporter": "python",
   "pygments_lexer": "ipython3",
   "version": "3.11.5"
  }
 },
 "nbformat": 4,
 "nbformat_minor": 5
}
