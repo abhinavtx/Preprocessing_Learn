{
 "cells": [
  {
   "cell_type": "code",
   "execution_count": 1,
   "id": "a0b13725",
   "metadata": {},
   "outputs": [],
   "source": [
    "import numpy as np"
   ]
  },
  {
   "cell_type": "code",
   "execution_count": 5,
   "id": "206c6776",
   "metadata": {},
   "outputs": [
    {
     "name": "stdout",
     "output_type": "stream",
     "text": [
      "[15 12 11]\n",
      "[0 8 8]\n"
     ]
    }
   ],
   "source": [
    "# Doing binary operations\n",
    "arr1 = np.array([5,8,10])\n",
    "arr2 = np.array([10,12,9])\n",
    "ans1 = np.bitwise_or(arr1, arr2)\n",
    "ans2 = np.bitwise_and(arr1, arr2)\n",
    "print(ans1)\n",
    "print(ans2)"
   ]
  },
  {
   "cell_type": "code",
   "execution_count": 6,
   "id": "28a74ac9",
   "metadata": {},
   "outputs": [],
   "source": [
    "# Note for using np.right_shift() or np.left_shift() it done on numbers and not on np"
   ]
  },
  {
   "cell_type": "code",
   "execution_count": 8,
   "id": "15b051bf",
   "metadata": {},
   "outputs": [
    {
     "name": "stdout",
     "output_type": "stream",
     "text": [
      "Cos value  [ 0.28366219 -0.14550003 -0.83907153]\n",
      "[-0.95892427  0.98935825 -0.54402111]\n"
     ]
    }
   ],
   "source": [
    "# doing math operations\n",
    "import math\n",
    "sinValue = np.sin(arr1)\n",
    "print(\"Cos value \", np.cos(arr1) )\n",
    "print(sinValue)"
   ]
  },
  {
   "cell_type": "code",
   "execution_count": 10,
   "id": "140154e2",
   "metadata": {},
   "outputs": [
    {
     "name": "stdout",
     "output_type": "stream",
     "text": [
      "[ 1.6659 85.5846 45.5855]\n"
     ]
    }
   ],
   "source": [
    "# Rounding of decimal\n",
    "num = np.array([1.66588, 85.5845825, 45.5855145])\n",
    "roundedVal = np.round_(num, decimals = 4)\n",
    "print(roundedVal)"
   ]
  },
  {
   "cell_type": "code",
   "execution_count": 16,
   "id": "4fece265",
   "metadata": {},
   "outputs": [
    {
     "name": "stdout",
     "output_type": "stream",
     "text": [
      "['Hi', 'how', 'are', 'you']\n",
      "['Hihowareyo,u']\n"
     ]
    }
   ],
   "source": [
    "## Using string operations\n",
    "# Using split function\n",
    "print(np.char.split('Hi how are you'))\n",
    "print(np.char.split('Hihowareyo,u'), sep=',' )"
   ]
  },
  {
   "cell_type": "code",
   "execution_count": 17,
   "id": "c28a79a8",
   "metadata": {},
   "outputs": [
    {
     "name": "stdout",
     "output_type": "stream",
     "text": [
      "H-i- -h-o-w- -a-r-e- -y-o-u\n"
     ]
    }
   ],
   "source": [
    "print(np.char.join('-','Hi how are you'))"
   ]
  },
  {
   "cell_type": "code",
   "execution_count": 23,
   "id": "bc73d4c1",
   "metadata": {},
   "outputs": [
    {
     "name": "stdout",
     "output_type": "stream",
     "text": [
      "[1 0 0 1 1]\n",
      "['HI' 'HELLO' 'HE' 'HI' 'HI']\n"
     ]
    }
   ],
   "source": [
    "# Counting the number of occurences of a string in a np string array\n",
    "stri = np.array(['hi', 'hello', 'he', 'hi', 'hi'])\n",
    "count = np.char.count(stri, 'hi')\n",
    "print(count)\n",
    "print(np.char.upper(stri))"
   ]
  },
  {
   "cell_type": "code",
   "execution_count": 33,
   "id": "8599998e",
   "metadata": {},
   "outputs": [
    {
     "name": "stdout",
     "output_type": "stream",
     "text": [
      "False\n",
      "False\n"
     ]
    }
   ],
   "source": [
    "# Now can also check comparison of 2 string\n",
    "# For checking of equal strings it check only for exactly same\n",
    "print(np.char.equal('for', 'rof'))\n",
    "# For comparison it check by alphabetic wise\n",
    "print(np.char.less('rof', 'for')) # Here xy is greater than abbb as it checks the sum of values"
   ]
  },
  {
   "cell_type": "markdown",
   "id": "38182994",
   "metadata": {},
   "source": [
    "### Reshaping NumPy array"
   ]
  },
  {
   "cell_type": "code",
   "execution_count": 59,
   "id": "5fadb607",
   "metadata": {},
   "outputs": [],
   "source": [
    "# For reshaping the product of rows and columns must be equal to the number of original elements"
   ]
  },
  {
   "cell_type": "code",
   "execution_count": 98,
   "id": "aa285793",
   "metadata": {},
   "outputs": [
    {
     "name": "stdout",
     "output_type": "stream",
     "text": [
      "float64\n",
      "[ 1.  2.  3.  4.  5.  6.  7.  8.  9. 10. 11. 12.]\n",
      "[[ 1.  2.  3.  4.]\n",
      " [ 5.  6.  7.  8.]\n",
      " [ 9. 10. 11. 12.]]\n",
      "[[ 1.  2.  3.  4.]\n",
      " [ 5.  6.  7.  8.]\n",
      " [ 9. 10. 11. 12.]]\n",
      "[ 1.  2.  3.  4.  5.  6.  7.  8.  9. 10. 11. 12.]\n"
     ]
    }
   ],
   "source": [
    "arr = np.arange(1, 13.0)\n",
    "print(arr.dtype)\n",
    "print(arr)\n",
    "reshArr = np.reshape(arr, (3,4))\n",
    "reshArr2 = np.reshape(arr, (3,4) , order='a')\n",
    "print(reshArr)\n",
    "print(reshArr2)\n",
    "orgArr = np.reshape(reshArr, (12))\n",
    "print(orgArr)"
   ]
  },
  {
   "cell_type": "code",
   "execution_count": 99,
   "id": "29b3f0ed",
   "metadata": {},
   "outputs": [],
   "source": [
    "# While using resize() function it changes the shape of original array\n",
    "# resize() works even if the number of element doesn't match the dimension --- It can truncate or replicate "
   ]
  },
  {
   "cell_type": "code",
   "execution_count": 100,
   "id": "4e9d5445",
   "metadata": {},
   "outputs": [
    {
     "name": "stdout",
     "output_type": "stream",
     "text": [
      "[1 2 3 4 5 6]\n",
      "The shape of array is:  (6,)\n",
      "The shape of new array is:  (2, 5)\n",
      "None\n",
      "[[1 2 3 4 5]\n",
      " [6 0 0 0 0]]\n",
      "[1 2 3 4 5 6 0 0 0 0]\n"
     ]
    }
   ],
   "source": [
    "arr = np.arange(1,7)\n",
    "print(arr)\n",
    "print(\"The shape of array is: \", arr.shape)\n",
    "abc = arr.resize(2,5)\n",
    "print(\"The shape of new array is: \", arr.shape)\n",
    "print(abc)\n",
    "print(arr)\n",
    "# arr.resize() returns NONE. It changes the original array and doesn't store the result anywhere\n",
    "arr.resize(10)\n",
    "print(arr)"
   ]
  },
  {
   "cell_type": "code",
   "execution_count": 101,
   "id": "a9d68dbe",
   "metadata": {},
   "outputs": [],
   "source": [
    "# We can also explicitly change the shape of array by using arr.shape = (x,y)"
   ]
  },
  {
   "cell_type": "code",
   "execution_count": 103,
   "id": "4bb55826",
   "metadata": {},
   "outputs": [
    {
     "name": "stdout",
     "output_type": "stream",
     "text": [
      "[[ 1.  2.  3.]\n",
      " [ 4.  5.  6.]\n",
      " [ 7.  8.  9.]\n",
      " [10. 11. 12.]]\n"
     ]
    }
   ],
   "source": [
    "arr1 = np.arange(1.,13.)\n",
    "newArr1 = np.reshape(arr1, (4,3), order= 'c')\n",
    "print(newArr1)"
   ]
  },
  {
   "cell_type": "code",
   "execution_count": 104,
   "id": "4da6bbfb",
   "metadata": {},
   "outputs": [],
   "source": [
    "# We can also change the order of reshape that whether reshaping using row or by column\n",
    "# by using order = 'c' or by order = 'f' or by order = 'a'{automatic} "
   ]
  },
  {
   "cell_type": "code",
   "execution_count": 132,
   "id": "59f776ea",
   "metadata": {},
   "outputs": [
    {
     "name": "stdout",
     "output_type": "stream",
     "text": [
      "(3, 2)\n",
      "[[1 2]\n",
      " [3 4]\n",
      " [5 6]]\n",
      "[1 2 3 4 5 6]\n"
     ]
    }
   ],
   "source": [
    "mat = np.array([[1,2], [3,4],[5,6]])\n",
    "print(mat.shape)\n",
    "print(mat)\n",
    "print(mat.flatten(order = 'a'))"
   ]
  },
  {
   "cell_type": "code",
   "execution_count": 141,
   "id": "1996de53",
   "metadata": {},
   "outputs": [
    {
     "name": "stdout",
     "output_type": "stream",
     "text": [
      "[[0 1 2]\n",
      " [3 4 5]\n",
      " [6 7 8]]\n",
      "\n",
      " [array([[0, 1, 2]]), array([[3, 4, 5]]), array([[6, 7, 8]])]\n",
      "[array([[0],\n",
      "       [3],\n",
      "       [6]]), array([[1],\n",
      "       [4],\n",
      "       [7]]), array([[2],\n",
      "       [5],\n",
      "       [8]])]\n",
      "Other one is: \n",
      " [array([[0, 1, 2],\n",
      "       [3, 4, 5],\n",
      "       [6, 7, 8]])]\n"
     ]
    }
   ],
   "source": [
    "## Using of split functions\n",
    "# Use of vsplit function\n",
    "arr = np.arange(9).reshape(3,3)\n",
    "print(arr)\n",
    "ex = np.vsplit(arr, 3)\n",
    "print(\"\\n\", ex)\n",
    "# This functions makes equal subarrays from original matrix \n",
    "hSpl = np.hsplit(arr, 3)\n",
    "print(hSpl)\n",
    "print(\"Other one is: \\n\", np.hsplit(arr,1))"
   ]
  },
  {
   "cell_type": "code",
   "execution_count": null,
   "id": "a5c702f8",
   "metadata": {},
   "outputs": [],
   "source": []
  }
 ],
 "metadata": {
  "kernelspec": {
   "display_name": "Python 3 (ipykernel)",
   "language": "python",
   "name": "python3"
  },
  "language_info": {
   "codemirror_mode": {
    "name": "ipython",
    "version": 3
   },
   "file_extension": ".py",
   "mimetype": "text/x-python",
   "name": "python",
   "nbconvert_exporter": "python",
   "pygments_lexer": "ipython3",
   "version": "3.11.5"
  }
 },
 "nbformat": 4,
 "nbformat_minor": 5
}
