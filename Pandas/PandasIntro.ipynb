{
 "cells": [
  {
   "cell_type": "code",
   "execution_count": 1,
   "id": "7ac83853",
   "metadata": {},
   "outputs": [],
   "source": [
    "## Introduction to pandas\n",
    "import numpy as np\n",
    "import pandas as pd"
   ]
  },
  {
   "cell_type": "code",
   "execution_count": 14,
   "id": "64394d20",
   "metadata": {},
   "outputs": [
    {
     "name": "stdout",
     "output_type": "stream",
     "text": [
      "    Name  Age\n",
      "0    Tom   20\n",
      "1   nick   21\n",
      "2  krish   19\n",
      "3   jack   18\n",
      "<class 'pandas.core.frame.DataFrame'> \n",
      "\n",
      "   numbers\n",
      "0        0\n",
      "1        1\n",
      "2        2\n",
      "3        3\n",
      "4        4\n",
      "5        5\n",
      "6        6\n",
      "7        7\n",
      "8        8\n",
      "9        9\n"
     ]
    }
   ],
   "source": [
    "data = {'Name':['Tom', 'nick', 'krish', 'jack'], 'Age':[20, 21, 19, 18]} # From dictionary\n",
    "df = pd.DataFrame(data) \n",
    "dart = pd.DataFrame({'numbers': np.arange(10)})\n",
    "print(df)\n",
    "print(type(df), \"\\n\")\n",
    "print(dart)\n",
    "# The command dataframe itself means that tha data is in 2d"
   ]
  },
  {
   "cell_type": "code",
   "execution_count": 20,
   "id": "5fa5fbd4",
   "metadata": {},
   "outputs": [
    {
     "name": "stdout",
     "output_type": "stream",
     "text": [
      "0    91\n",
      "1    92\n",
      "2    93\n",
      "3    94\n",
      "4    95\n",
      "5    96\n",
      "6    97\n",
      "7    98\n",
      "8    99\n",
      "dtype: int32 \n",
      " <class 'pandas.core.series.Series'>\n"
     ]
    }
   ],
   "source": [
    "dSeries = pd.Series( np.arange(91,100), index = [i for i in range(9)]) \n",
    "# In this we have made a panda series along with making of index\n",
    "# Panda series is 1 dimensional data and takes input a array or numpy array \n",
    "print(dSeries, \"\\n\", type(dSeries))"
   ]
  },
  {
   "cell_type": "code",
   "execution_count": 15,
   "id": "0c6aed04",
   "metadata": {},
   "outputs": [
    {
     "name": "stdout",
     "output_type": "stream",
     "text": [
      "3    3\n",
      "4    4\n",
      "5    5\n",
      "6    6\n",
      "dtype: int32\n"
     ]
    }
   ],
   "source": [
    "# Indexing\n",
    "print(dSeries[3:7])"
   ]
  },
  {
   "cell_type": "code",
   "execution_count": 22,
   "id": "72b098aa",
   "metadata": {},
   "outputs": [
    {
     "name": "stdout",
     "output_type": "stream",
     "text": [
      "Geeks    10\n",
      "for      20\n",
      "geeks    30\n",
      "dtype: int64\n"
     ]
    }
   ],
   "source": [
    "dicti = {'Geeks': 10,\n",
    "        'for': 20,\n",
    "        'geeks': 30}\n",
    " \n",
    "# create series from dictionary\n",
    "ser = pd.Series(dicti)\n",
    " \n",
    "print(ser)"
   ]
  },
  {
   "cell_type": "code",
   "execution_count": null,
   "id": "e5cc099c",
   "metadata": {},
   "outputs": [],
   "source": []
  }
 ],
 "metadata": {
  "kernelspec": {
   "display_name": "Python 3 (ipykernel)",
   "language": "python",
   "name": "python3"
  },
  "language_info": {
   "codemirror_mode": {
    "name": "ipython",
    "version": 3
   },
   "file_extension": ".py",
   "mimetype": "text/x-python",
   "name": "python",
   "nbconvert_exporter": "python",
   "pygments_lexer": "ipython3",
   "version": "3.11.5"
  }
 },
 "nbformat": 4,
 "nbformat_minor": 5
}
