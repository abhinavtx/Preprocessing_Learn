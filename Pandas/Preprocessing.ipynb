{
 "cells": [
  {
   "cell_type": "code",
   "execution_count": 69,
   "id": "c2d663c2",
   "metadata": {},
   "outputs": [],
   "source": [
    "import numpy as np\n",
    "import pandas as pd \n",
    "from sklearn.impute import SimpleImputer\n",
    "import matplotlib.pyplot as plt\n",
    "import seaborn as sns\n",
    "from sklearn import preprocessing"
   ]
  },
  {
   "cell_type": "code",
   "execution_count": 70,
   "id": "83ad15e8",
   "metadata": {},
   "outputs": [],
   "source": [
    "df = pd.read_csv(\"CICIDS2017.csv\")"
   ]
  },
  {
   "cell_type": "code",
   "execution_count": 71,
   "id": "9c8deaba",
   "metadata": {},
   "outputs": [
    {
     "data": {
      "text/html": [
       "<div>\n",
       "<style scoped>\n",
       "    .dataframe tbody tr th:only-of-type {\n",
       "        vertical-align: middle;\n",
       "    }\n",
       "\n",
       "    .dataframe tbody tr th {\n",
       "        vertical-align: top;\n",
       "    }\n",
       "\n",
       "    .dataframe thead th {\n",
       "        text-align: right;\n",
       "    }\n",
       "</style>\n",
       "<table border=\"1\" class=\"dataframe\">\n",
       "  <thead>\n",
       "    <tr style=\"text-align: right;\">\n",
       "      <th></th>\n",
       "      <th>Flow Duration</th>\n",
       "      <th>Total Fwd Packets</th>\n",
       "      <th>Total Backward Packets</th>\n",
       "      <th>Total Length of Fwd Packets</th>\n",
       "      <th>Total Length of Bwd Packets</th>\n",
       "      <th>Fwd Packet Length Max</th>\n",
       "      <th>Fwd Packet Length Min</th>\n",
       "      <th>Fwd Packet Length Mean</th>\n",
       "      <th>Fwd Packet Length Std</th>\n",
       "      <th>Bwd Packet Length Max</th>\n",
       "      <th>...</th>\n",
       "      <th>min_seg_size_forward</th>\n",
       "      <th>Active Mean</th>\n",
       "      <th>Active Std</th>\n",
       "      <th>Active Max</th>\n",
       "      <th>Active Min</th>\n",
       "      <th>Idle Mean</th>\n",
       "      <th>Idle Std</th>\n",
       "      <th>Idle Max</th>\n",
       "      <th>Idle Min</th>\n",
       "      <th>Label</th>\n",
       "    </tr>\n",
       "  </thead>\n",
       "  <tbody>\n",
       "    <tr>\n",
       "      <th>0</th>\n",
       "      <td>4</td>\n",
       "      <td>2</td>\n",
       "      <td>0</td>\n",
       "      <td>37</td>\n",
       "      <td>0</td>\n",
       "      <td>31</td>\n",
       "      <td>6</td>\n",
       "      <td>18.500000</td>\n",
       "      <td>17.677670</td>\n",
       "      <td>0</td>\n",
       "      <td>...</td>\n",
       "      <td>20</td>\n",
       "      <td>0.0</td>\n",
       "      <td>0.0</td>\n",
       "      <td>0</td>\n",
       "      <td>0</td>\n",
       "      <td>0.0</td>\n",
       "      <td>0.0</td>\n",
       "      <td>0</td>\n",
       "      <td>0</td>\n",
       "      <td>BENIGN</td>\n",
       "    </tr>\n",
       "    <tr>\n",
       "      <th>1</th>\n",
       "      <td>142377</td>\n",
       "      <td>46</td>\n",
       "      <td>62</td>\n",
       "      <td>1325</td>\n",
       "      <td>105855</td>\n",
       "      <td>570</td>\n",
       "      <td>0</td>\n",
       "      <td>28.804348</td>\n",
       "      <td>111.407285</td>\n",
       "      <td>4344</td>\n",
       "      <td>...</td>\n",
       "      <td>20</td>\n",
       "      <td>0.0</td>\n",
       "      <td>0.0</td>\n",
       "      <td>0</td>\n",
       "      <td>0</td>\n",
       "      <td>0.0</td>\n",
       "      <td>0.0</td>\n",
       "      <td>0</td>\n",
       "      <td>0</td>\n",
       "      <td>BENIGN</td>\n",
       "    </tr>\n",
       "    <tr>\n",
       "      <th>2</th>\n",
       "      <td>118873</td>\n",
       "      <td>23</td>\n",
       "      <td>28</td>\n",
       "      <td>1169</td>\n",
       "      <td>45025</td>\n",
       "      <td>570</td>\n",
       "      <td>0</td>\n",
       "      <td>50.826087</td>\n",
       "      <td>156.137367</td>\n",
       "      <td>2896</td>\n",
       "      <td>...</td>\n",
       "      <td>32</td>\n",
       "      <td>0.0</td>\n",
       "      <td>0.0</td>\n",
       "      <td>0</td>\n",
       "      <td>0</td>\n",
       "      <td>0.0</td>\n",
       "      <td>0.0</td>\n",
       "      <td>0</td>\n",
       "      <td>0</td>\n",
       "      <td>BENIGN</td>\n",
       "    </tr>\n",
       "    <tr>\n",
       "      <th>3</th>\n",
       "      <td>143577</td>\n",
       "      <td>43</td>\n",
       "      <td>55</td>\n",
       "      <td>1301</td>\n",
       "      <td>107289</td>\n",
       "      <td>570</td>\n",
       "      <td>0</td>\n",
       "      <td>30.255814</td>\n",
       "      <td>115.178969</td>\n",
       "      <td>4344</td>\n",
       "      <td>...</td>\n",
       "      <td>20</td>\n",
       "      <td>0.0</td>\n",
       "      <td>0.0</td>\n",
       "      <td>0</td>\n",
       "      <td>0</td>\n",
       "      <td>0.0</td>\n",
       "      <td>0.0</td>\n",
       "      <td>0</td>\n",
       "      <td>0</td>\n",
       "      <td>BENIGN</td>\n",
       "    </tr>\n",
       "    <tr>\n",
       "      <th>4</th>\n",
       "      <td>143745</td>\n",
       "      <td>49</td>\n",
       "      <td>59</td>\n",
       "      <td>1331</td>\n",
       "      <td>110185</td>\n",
       "      <td>570</td>\n",
       "      <td>0</td>\n",
       "      <td>27.163265</td>\n",
       "      <td>108.067176</td>\n",
       "      <td>4344</td>\n",
       "      <td>...</td>\n",
       "      <td>20</td>\n",
       "      <td>0.0</td>\n",
       "      <td>0.0</td>\n",
       "      <td>0</td>\n",
       "      <td>0</td>\n",
       "      <td>0.0</td>\n",
       "      <td>0.0</td>\n",
       "      <td>0</td>\n",
       "      <td>0</td>\n",
       "      <td>BENIGN</td>\n",
       "    </tr>\n",
       "  </tbody>\n",
       "</table>\n",
       "<p>5 rows × 78 columns</p>\n",
       "</div>"
      ],
      "text/plain": [
       "   Flow Duration  Total Fwd Packets  Total Backward Packets  \\\n",
       "0              4                  2                       0   \n",
       "1         142377                 46                      62   \n",
       "2         118873                 23                      28   \n",
       "3         143577                 43                      55   \n",
       "4         143745                 49                      59   \n",
       "\n",
       "   Total Length of Fwd Packets  Total Length of Bwd Packets  \\\n",
       "0                           37                            0   \n",
       "1                         1325                       105855   \n",
       "2                         1169                        45025   \n",
       "3                         1301                       107289   \n",
       "4                         1331                       110185   \n",
       "\n",
       "   Fwd Packet Length Max  Fwd Packet Length Min  Fwd Packet Length Mean  \\\n",
       "0                     31                      6               18.500000   \n",
       "1                    570                      0               28.804348   \n",
       "2                    570                      0               50.826087   \n",
       "3                    570                      0               30.255814   \n",
       "4                    570                      0               27.163265   \n",
       "\n",
       "   Fwd Packet Length Std  Bwd Packet Length Max  ...  min_seg_size_forward  \\\n",
       "0              17.677670                      0  ...                    20   \n",
       "1             111.407285                   4344  ...                    20   \n",
       "2             156.137367                   2896  ...                    32   \n",
       "3             115.178969                   4344  ...                    20   \n",
       "4             108.067176                   4344  ...                    20   \n",
       "\n",
       "   Active Mean  Active Std  Active Max  Active Min  Idle Mean  Idle Std  \\\n",
       "0          0.0         0.0           0           0        0.0       0.0   \n",
       "1          0.0         0.0           0           0        0.0       0.0   \n",
       "2          0.0         0.0           0           0        0.0       0.0   \n",
       "3          0.0         0.0           0           0        0.0       0.0   \n",
       "4          0.0         0.0           0           0        0.0       0.0   \n",
       "\n",
       "   Idle Max  Idle Min   Label  \n",
       "0         0         0  BENIGN  \n",
       "1         0         0  BENIGN  \n",
       "2         0         0  BENIGN  \n",
       "3         0         0  BENIGN  \n",
       "4         0         0  BENIGN  \n",
       "\n",
       "[5 rows x 78 columns]"
      ]
     },
     "execution_count": 71,
     "metadata": {},
     "output_type": "execute_result"
    }
   ],
   "source": [
    "df.head()"
   ]
  },
  {
   "cell_type": "code",
   "execution_count": 72,
   "id": "d89b4b5d",
   "metadata": {},
   "outputs": [
    {
     "data": {
      "text/plain": [
       "(56661, 78)"
      ]
     },
     "execution_count": 72,
     "metadata": {},
     "output_type": "execute_result"
    }
   ],
   "source": [
    "df.shape"
   ]
  },
  {
   "cell_type": "code",
   "execution_count": 73,
   "id": "8fe41059",
   "metadata": {},
   "outputs": [],
   "source": [
    "df.drop_duplicates(inplace=True)"
   ]
  },
  {
   "cell_type": "code",
   "execution_count": 74,
   "id": "b47a8803",
   "metadata": {},
   "outputs": [
    {
     "data": {
      "text/plain": [
       "(44063, 78)"
      ]
     },
     "execution_count": 74,
     "metadata": {},
     "output_type": "execute_result"
    }
   ],
   "source": [
    "df.shape"
   ]
  },
  {
   "cell_type": "code",
   "execution_count": 75,
   "id": "0926847e",
   "metadata": {},
   "outputs": [
    {
     "name": "stdout",
     "output_type": "stream",
     "text": [
      "Flow Bytes/s\n"
     ]
    }
   ],
   "source": [
    "for i in df.columns:\n",
    "    if df[i].isnull().sum() != 0:\n",
    "        print(i)"
   ]
  },
  {
   "cell_type": "code",
   "execution_count": 76,
   "id": "93429345",
   "metadata": {},
   "outputs": [
    {
     "name": "stdout",
     "output_type": "stream",
     "text": [
      "Label\n"
     ]
    }
   ],
   "source": [
    "for i in df.columns:\n",
    "    if df[i].dtype == 'object':\n",
    "        print(i)"
   ]
  },
  {
   "cell_type": "code",
   "execution_count": 77,
   "id": "d65dddd5",
   "metadata": {},
   "outputs": [],
   "source": [
    "label_encoder = preprocessing.LabelEncoder()\n",
    "df[\"Label\"]= label_encoder.fit_transform(df[\"Label\"])\n",
    "y = df[\"Label\"]"
   ]
  },
  {
   "cell_type": "code",
   "execution_count": 78,
   "id": "3ccf88f8",
   "metadata": {},
   "outputs": [
    {
     "data": {
      "text/plain": [
       "5"
      ]
     },
     "execution_count": 78,
     "metadata": {},
     "output_type": "execute_result"
    }
   ],
   "source": [
    "df[\"Flow Bytes/s\"].isnull().sum()"
   ]
  },
  {
   "cell_type": "code",
   "execution_count": 79,
   "id": "29790187",
   "metadata": {},
   "outputs": [
    {
     "data": {
      "text/plain": [
       "(44063, 78)"
      ]
     },
     "execution_count": 79,
     "metadata": {},
     "output_type": "execute_result"
    }
   ],
   "source": [
    "df.shape"
   ]
  },
  {
   "cell_type": "code",
   "execution_count": 80,
   "id": "2b5a99ec",
   "metadata": {},
   "outputs": [
    {
     "data": {
      "text/plain": [
       "array([0, 3, 5, 1, 4, 6, 2])"
      ]
     },
     "execution_count": 80,
     "metadata": {},
     "output_type": "execute_result"
    }
   ],
   "source": [
    "y.unique()"
   ]
  },
  {
   "cell_type": "code",
   "execution_count": 81,
   "id": "bd3d0cc4",
   "metadata": {},
   "outputs": [],
   "source": [
    "count = [0]*7\n",
    "for i in range(1,y.shape[0]) :\n",
    "    if pd.isna(df[\"Flow Bytes/s\"].iloc[i]) :\n",
    "        count[y.iloc[i]] += 1"
   ]
  },
  {
   "cell_type": "code",
   "execution_count": 82,
   "id": "1d383946",
   "metadata": {},
   "outputs": [
    {
     "data": {
      "text/plain": [
       "[3, 0, 0, 2, 0, 0, 0]"
      ]
     },
     "execution_count": 82,
     "metadata": {},
     "output_type": "execute_result"
    }
   ],
   "source": [
    "count"
   ]
  },
  {
   "cell_type": "code",
   "execution_count": 83,
   "id": "56b6965b",
   "metadata": {},
   "outputs": [
    {
     "name": "stdout",
     "output_type": "stream",
     "text": [
      "Flow Bytes/s\n",
      "Flow Packets/s\n"
     ]
    }
   ],
   "source": [
    "ans = 0\n",
    "for i in df.columns:\n",
    "    if np.isinf(df[i]).values.sum() != 0:\n",
    "        ans += 1\n",
    "        print(i)"
   ]
  },
  {
   "cell_type": "code",
   "execution_count": 84,
   "id": "4e46d15d",
   "metadata": {},
   "outputs": [],
   "source": [
    "df.replace([np.inf, -np.inf], np.nan, inplace=True)"
   ]
  },
  {
   "cell_type": "code",
   "execution_count": 85,
   "id": "4aae8d76",
   "metadata": {},
   "outputs": [],
   "source": [
    "df.dropna(inplace = True)"
   ]
  },
  {
   "cell_type": "code",
   "execution_count": 86,
   "id": "e5a507ae",
   "metadata": {},
   "outputs": [],
   "source": [
    "#df.drop('Label', axis = 1, inplace = True)"
   ]
  },
  {
   "cell_type": "code",
   "execution_count": 87,
   "id": "19461a41",
   "metadata": {},
   "outputs": [],
   "source": [
    "# imputer = SimpleImputer(missing_values = np.nan, strategy = 'median')\n",
    "# imputer.fit(df.loc[:].values)\n",
    "# df.loc[:] = imputer.transform(df.loc[:\"Flow Bytes/s\"].values)"
   ]
  },
  {
   "cell_type": "code",
   "execution_count": 88,
   "id": "92e6170e",
   "metadata": {},
   "outputs": [
    {
     "name": "stderr",
     "output_type": "stream",
     "text": [
      "C:\\Users\\abhin\\AppData\\Local\\Temp\\ipykernel_26528\\2429363121.py:3: DeprecationWarning: In a future version, `df.iloc[:, i] = newvals` will attempt to set the values inplace instead of always setting a new array. To retain the old behavior, use either `df[df.columns[i]] = newvals` or, if columns are non-unique, `df.isetitem(i, newvals)`\n",
      "  df.loc[:] = SC.fit_transform(df.loc[:])\n"
     ]
    }
   ],
   "source": [
    "from sklearn.preprocessing import StandardScaler\n",
    "SC = StandardScaler()\n",
    "df.loc[:] = SC.fit_transform(df.loc[:])"
   ]
  },
  {
   "cell_type": "code",
   "execution_count": 89,
   "id": "0260d32a",
   "metadata": {},
   "outputs": [],
   "source": [
    "col = []\n",
    "for i in df.columns:\n",
    "    n = len(df[i].dropna().unique())\n",
    "    if n == 1:\n",
    "        col.append(i)"
   ]
  },
  {
   "cell_type": "code",
   "execution_count": 90,
   "id": "401e4a9f",
   "metadata": {},
   "outputs": [],
   "source": [
    "df.drop(col, axis = 1, inplace = True)"
   ]
  },
  {
   "cell_type": "code",
   "execution_count": 91,
   "id": "b8b9649b",
   "metadata": {},
   "outputs": [
    {
     "data": {
      "text/plain": [
       "(44043, 70)"
      ]
     },
     "execution_count": 91,
     "metadata": {},
     "output_type": "execute_result"
    }
   ],
   "source": [
    "df.shape"
   ]
  },
  {
   "cell_type": "code",
   "execution_count": 92,
   "id": "1a9cd081",
   "metadata": {},
   "outputs": [],
   "source": [
    "def correlation(dataset, threshold):\n",
    "    col_corr = set()  # Set of all the names of correlated columns\n",
    "    corr_matrix = dataset.corr()\n",
    "    for i in range(len(corr_matrix.columns)):\n",
    "        for j in range(i):\n",
    "            if abs(corr_matrix.iloc[i, j]) > threshold: # we are interested in absolute coeff value\n",
    "                colname = corr_matrix.columns[i]  # getting the name of column\n",
    "                col_corr.add(colname)\n",
    "    return col_corr"
   ]
  },
  {
   "cell_type": "code",
   "execution_count": 93,
   "id": "b0241a27",
   "metadata": {},
   "outputs": [
    {
     "data": {
      "text/plain": [
       "37"
      ]
     },
     "execution_count": 93,
     "metadata": {},
     "output_type": "execute_result"
    }
   ],
   "source": [
    "corr_features = correlation(df.iloc[:,:-1], 0.8)\n",
    "len((corr_features))"
   ]
  },
  {
   "cell_type": "code",
   "execution_count": 94,
   "id": "f204fd5f",
   "metadata": {},
   "outputs": [],
   "source": [
    "df.drop(corr_features, axis = 1, inplace = True)"
   ]
  },
  {
   "cell_type": "code",
   "execution_count": 95,
   "id": "33178ea7",
   "metadata": {},
   "outputs": [
    {
     "data": {
      "text/plain": [
       "(44043, 33)"
      ]
     },
     "execution_count": 95,
     "metadata": {},
     "output_type": "execute_result"
    }
   ],
   "source": [
    "df.shape"
   ]
  },
  {
   "cell_type": "code",
   "execution_count": 96,
   "id": "a3b1620a",
   "metadata": {},
   "outputs": [],
   "source": [
    "df.drop_duplicates(inplace=True)"
   ]
  },
  {
   "cell_type": "code",
   "execution_count": 97,
   "id": "ba912af5",
   "metadata": {},
   "outputs": [
    {
     "data": {
      "text/plain": [
       "(43995, 33)"
      ]
     },
     "execution_count": 97,
     "metadata": {},
     "output_type": "execute_result"
    }
   ],
   "source": [
    "df.shape"
   ]
  },
  {
   "cell_type": "code",
   "execution_count": 98,
   "id": "4fce0c0c",
   "metadata": {},
   "outputs": [],
   "source": [
    "y = df[\"Label\"]"
   ]
  },
  {
   "cell_type": "code",
   "execution_count": 99,
   "id": "9cde2901",
   "metadata": {},
   "outputs": [],
   "source": [
    "df.drop(\"Label\",axis=1, inplace=True)"
   ]
  },
  {
   "cell_type": "code",
   "execution_count": 100,
   "id": "a5ad28da",
   "metadata": {},
   "outputs": [
    {
     "data": {
      "text/html": [
       "<div>\n",
       "<style scoped>\n",
       "    .dataframe tbody tr th:only-of-type {\n",
       "        vertical-align: middle;\n",
       "    }\n",
       "\n",
       "    .dataframe tbody tr th {\n",
       "        vertical-align: top;\n",
       "    }\n",
       "\n",
       "    .dataframe thead th {\n",
       "        text-align: right;\n",
       "    }\n",
       "</style>\n",
       "<table border=\"1\" class=\"dataframe\">\n",
       "  <thead>\n",
       "    <tr style=\"text-align: right;\">\n",
       "      <th></th>\n",
       "      <th>Flow Duration</th>\n",
       "      <th>Total Fwd Packets</th>\n",
       "      <th>Total Length of Fwd Packets</th>\n",
       "      <th>Total Length of Bwd Packets</th>\n",
       "      <th>Fwd Packet Length Max</th>\n",
       "      <th>Fwd Packet Length Min</th>\n",
       "      <th>Bwd Packet Length Max</th>\n",
       "      <th>Bwd Packet Length Min</th>\n",
       "      <th>Flow Bytes/s</th>\n",
       "      <th>Flow Packets/s</th>\n",
       "      <th>...</th>\n",
       "      <th>PSH Flag Count</th>\n",
       "      <th>ACK Flag Count</th>\n",
       "      <th>URG Flag Count</th>\n",
       "      <th>Down/Up Ratio</th>\n",
       "      <th>Init_Win_bytes_forward</th>\n",
       "      <th>Init_Win_bytes_backward</th>\n",
       "      <th>min_seg_size_forward</th>\n",
       "      <th>Active Mean</th>\n",
       "      <th>Active Std</th>\n",
       "      <th>Idle Std</th>\n",
       "    </tr>\n",
       "  </thead>\n",
       "  <tbody>\n",
       "    <tr>\n",
       "      <th>0</th>\n",
       "      <td>-0.624937</td>\n",
       "      <td>-0.080724</td>\n",
       "      <td>-0.037334</td>\n",
       "      <td>-0.054841</td>\n",
       "      <td>-0.241871</td>\n",
       "      <td>-0.126650</td>\n",
       "      <td>-0.664853</td>\n",
       "      <td>-0.443455</td>\n",
       "      <td>0.436615</td>\n",
       "      <td>3.231795</td>\n",
       "      <td>...</td>\n",
       "      <td>-0.706168</td>\n",
       "      <td>1.301319</td>\n",
       "      <td>-0.273777</td>\n",
       "      <td>-0.923234</td>\n",
       "      <td>-0.565108</td>\n",
       "      <td>-0.291031</td>\n",
       "      <td>-0.929196</td>\n",
       "      <td>-0.124858</td>\n",
       "      <td>-0.092855</td>\n",
       "      <td>-0.156556</td>\n",
       "    </tr>\n",
       "    <tr>\n",
       "      <th>1</th>\n",
       "      <td>-0.621373</td>\n",
       "      <td>0.601705</td>\n",
       "      <td>0.015858</td>\n",
       "      <td>0.799553</td>\n",
       "      <td>0.475017</td>\n",
       "      <td>-0.244256</td>\n",
       "      <td>0.781935</td>\n",
       "      <td>-0.443455</td>\n",
       "      <td>0.000631</td>\n",
       "      <td>-0.167233</td>\n",
       "      <td>...</td>\n",
       "      <td>1.416094</td>\n",
       "      <td>-0.768451</td>\n",
       "      <td>-0.273777</td>\n",
       "      <td>0.580260</td>\n",
       "      <td>1.615234</td>\n",
       "      <td>-0.283897</td>\n",
       "      <td>-0.929196</td>\n",
       "      <td>-0.124858</td>\n",
       "      <td>-0.092855</td>\n",
       "      <td>-0.156556</td>\n",
       "    </tr>\n",
       "    <tr>\n",
       "      <th>2</th>\n",
       "      <td>-0.621962</td>\n",
       "      <td>0.244981</td>\n",
       "      <td>0.009415</td>\n",
       "      <td>0.308572</td>\n",
       "      <td>0.475017</td>\n",
       "      <td>-0.244256</td>\n",
       "      <td>0.299672</td>\n",
       "      <td>-0.443455</td>\n",
       "      <td>-0.018055</td>\n",
       "      <td>-0.169476</td>\n",
       "      <td>...</td>\n",
       "      <td>1.416094</td>\n",
       "      <td>-0.768451</td>\n",
       "      <td>-0.273777</td>\n",
       "      <td>0.580260</td>\n",
       "      <td>1.615234</td>\n",
       "      <td>-0.283897</td>\n",
       "      <td>0.988604</td>\n",
       "      <td>-0.124858</td>\n",
       "      <td>-0.092855</td>\n",
       "      <td>-0.156556</td>\n",
       "    </tr>\n",
       "    <tr>\n",
       "      <th>3</th>\n",
       "      <td>-0.621343</td>\n",
       "      <td>0.555176</td>\n",
       "      <td>0.014867</td>\n",
       "      <td>0.811128</td>\n",
       "      <td>0.475017</td>\n",
       "      <td>-0.244256</td>\n",
       "      <td>0.781935</td>\n",
       "      <td>-0.443455</td>\n",
       "      <td>0.000812</td>\n",
       "      <td>-0.167750</td>\n",
       "      <td>...</td>\n",
       "      <td>1.416094</td>\n",
       "      <td>-0.768451</td>\n",
       "      <td>-0.273777</td>\n",
       "      <td>0.580260</td>\n",
       "      <td>1.615234</td>\n",
       "      <td>-0.283897</td>\n",
       "      <td>-0.929196</td>\n",
       "      <td>-0.124858</td>\n",
       "      <td>-0.092855</td>\n",
       "      <td>-0.156556</td>\n",
       "    </tr>\n",
       "    <tr>\n",
       "      <th>4</th>\n",
       "      <td>-0.621339</td>\n",
       "      <td>0.648235</td>\n",
       "      <td>0.016106</td>\n",
       "      <td>0.834502</td>\n",
       "      <td>0.475017</td>\n",
       "      <td>-0.244256</td>\n",
       "      <td>0.781935</td>\n",
       "      <td>-0.443455</td>\n",
       "      <td>0.001811</td>\n",
       "      <td>-0.167282</td>\n",
       "      <td>...</td>\n",
       "      <td>1.416094</td>\n",
       "      <td>-0.768451</td>\n",
       "      <td>-0.273777</td>\n",
       "      <td>0.580260</td>\n",
       "      <td>1.615234</td>\n",
       "      <td>-0.283897</td>\n",
       "      <td>-0.929196</td>\n",
       "      <td>-0.124858</td>\n",
       "      <td>-0.092855</td>\n",
       "      <td>-0.156556</td>\n",
       "    </tr>\n",
       "  </tbody>\n",
       "</table>\n",
       "<p>5 rows × 32 columns</p>\n",
       "</div>"
      ],
      "text/plain": [
       "   Flow Duration  Total Fwd Packets  Total Length of Fwd Packets  \\\n",
       "0      -0.624937          -0.080724                    -0.037334   \n",
       "1      -0.621373           0.601705                     0.015858   \n",
       "2      -0.621962           0.244981                     0.009415   \n",
       "3      -0.621343           0.555176                     0.014867   \n",
       "4      -0.621339           0.648235                     0.016106   \n",
       "\n",
       "   Total Length of Bwd Packets  Fwd Packet Length Max  Fwd Packet Length Min  \\\n",
       "0                    -0.054841              -0.241871              -0.126650   \n",
       "1                     0.799553               0.475017              -0.244256   \n",
       "2                     0.308572               0.475017              -0.244256   \n",
       "3                     0.811128               0.475017              -0.244256   \n",
       "4                     0.834502               0.475017              -0.244256   \n",
       "\n",
       "   Bwd Packet Length Max  Bwd Packet Length Min  Flow Bytes/s  Flow Packets/s  \\\n",
       "0              -0.664853              -0.443455      0.436615        3.231795   \n",
       "1               0.781935              -0.443455      0.000631       -0.167233   \n",
       "2               0.299672              -0.443455     -0.018055       -0.169476   \n",
       "3               0.781935              -0.443455      0.000812       -0.167750   \n",
       "4               0.781935              -0.443455      0.001811       -0.167282   \n",
       "\n",
       "   ...  PSH Flag Count  ACK Flag Count  URG Flag Count  Down/Up Ratio  \\\n",
       "0  ...       -0.706168        1.301319       -0.273777      -0.923234   \n",
       "1  ...        1.416094       -0.768451       -0.273777       0.580260   \n",
       "2  ...        1.416094       -0.768451       -0.273777       0.580260   \n",
       "3  ...        1.416094       -0.768451       -0.273777       0.580260   \n",
       "4  ...        1.416094       -0.768451       -0.273777       0.580260   \n",
       "\n",
       "   Init_Win_bytes_forward  Init_Win_bytes_backward  min_seg_size_forward  \\\n",
       "0               -0.565108                -0.291031             -0.929196   \n",
       "1                1.615234                -0.283897             -0.929196   \n",
       "2                1.615234                -0.283897              0.988604   \n",
       "3                1.615234                -0.283897             -0.929196   \n",
       "4                1.615234                -0.283897             -0.929196   \n",
       "\n",
       "   Active Mean  Active Std  Idle Std  \n",
       "0    -0.124858   -0.092855 -0.156556  \n",
       "1    -0.124858   -0.092855 -0.156556  \n",
       "2    -0.124858   -0.092855 -0.156556  \n",
       "3    -0.124858   -0.092855 -0.156556  \n",
       "4    -0.124858   -0.092855 -0.156556  \n",
       "\n",
       "[5 rows x 32 columns]"
      ]
     },
     "execution_count": 100,
     "metadata": {},
     "output_type": "execute_result"
    }
   ],
   "source": [
    "df.head()"
   ]
  },
  {
   "cell_type": "code",
   "execution_count": 101,
   "id": "4002d786",
   "metadata": {},
   "outputs": [
    {
     "data": {
      "text/plain": [
       "(43995, 32)"
      ]
     },
     "execution_count": 101,
     "metadata": {},
     "output_type": "execute_result"
    }
   ],
   "source": [
    "df.shape"
   ]
  },
  {
   "cell_type": "code",
   "execution_count": null,
   "id": "d1eb5aab",
   "metadata": {},
   "outputs": [],
   "source": []
  }
 ],
 "metadata": {
  "kernelspec": {
   "display_name": "Python 3 (ipykernel)",
   "language": "python",
   "name": "python3"
  },
  "language_info": {
   "codemirror_mode": {
    "name": "ipython",
    "version": 3
   },
   "file_extension": ".py",
   "mimetype": "text/x-python",
   "name": "python",
   "nbconvert_exporter": "python",
   "pygments_lexer": "ipython3",
   "version": "3.10.9"
  }
 },
 "nbformat": 4,
 "nbformat_minor": 5
}
