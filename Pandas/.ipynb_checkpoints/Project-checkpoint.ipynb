{
 "cells": [
  {
   "cell_type": "code",
   "execution_count": 1,
   "id": "69064db7",
   "metadata": {},
   "outputs": [],
   "source": [
    "import numpy as np\n",
    "import pandas as pd \n",
    "import matplotlib.pyplot as plt"
   ]
  },
  {
   "cell_type": "code",
   "execution_count": 2,
   "id": "9b301159",
   "metadata": {},
   "outputs": [
    {
     "data": {
      "text/html": [
       "<div>\n",
       "<style scoped>\n",
       "    .dataframe tbody tr th:only-of-type {\n",
       "        vertical-align: middle;\n",
       "    }\n",
       "\n",
       "    .dataframe tbody tr th {\n",
       "        vertical-align: top;\n",
       "    }\n",
       "\n",
       "    .dataframe thead th {\n",
       "        text-align: right;\n",
       "    }\n",
       "</style>\n",
       "<table border=\"1\" class=\"dataframe\">\n",
       "  <thead>\n",
       "    <tr style=\"text-align: right;\">\n",
       "      <th></th>\n",
       "      <th>name</th>\n",
       "      <th>host_id</th>\n",
       "      <th>host_name</th>\n",
       "      <th>neighbourhood_group</th>\n",
       "      <th>neighbourhood</th>\n",
       "      <th>latitude</th>\n",
       "      <th>longitude</th>\n",
       "      <th>room_type</th>\n",
       "      <th>price</th>\n",
       "      <th>minimum_nights</th>\n",
       "      <th>number_of_reviews</th>\n",
       "      <th>last_review</th>\n",
       "      <th>reviews_per_month</th>\n",
       "      <th>calculated_host_listings_count</th>\n",
       "      <th>availability_365</th>\n",
       "    </tr>\n",
       "    <tr>\n",
       "      <th>id</th>\n",
       "      <th></th>\n",
       "      <th></th>\n",
       "      <th></th>\n",
       "      <th></th>\n",
       "      <th></th>\n",
       "      <th></th>\n",
       "      <th></th>\n",
       "      <th></th>\n",
       "      <th></th>\n",
       "      <th></th>\n",
       "      <th></th>\n",
       "      <th></th>\n",
       "      <th></th>\n",
       "      <th></th>\n",
       "      <th></th>\n",
       "    </tr>\n",
       "  </thead>\n",
       "  <tbody>\n",
       "    <tr>\n",
       "      <th>2539</th>\n",
       "      <td>Clean &amp; quiet apt home by the park</td>\n",
       "      <td>2787</td>\n",
       "      <td>John</td>\n",
       "      <td>Brooklyn</td>\n",
       "      <td>Kensington</td>\n",
       "      <td>40.64749</td>\n",
       "      <td>-73.97237</td>\n",
       "      <td>Private room</td>\n",
       "      <td>149</td>\n",
       "      <td>1</td>\n",
       "      <td>9</td>\n",
       "      <td>2018-10-19</td>\n",
       "      <td>0.21</td>\n",
       "      <td>6</td>\n",
       "      <td>365</td>\n",
       "    </tr>\n",
       "    <tr>\n",
       "      <th>2595</th>\n",
       "      <td>Skylit Midtown Castle</td>\n",
       "      <td>2845</td>\n",
       "      <td>Jennifer</td>\n",
       "      <td>Manhattan</td>\n",
       "      <td>Midtown</td>\n",
       "      <td>40.75362</td>\n",
       "      <td>-73.98377</td>\n",
       "      <td>Entire home/apt</td>\n",
       "      <td>225</td>\n",
       "      <td>1</td>\n",
       "      <td>45</td>\n",
       "      <td>2019-05-21</td>\n",
       "      <td>0.38</td>\n",
       "      <td>2</td>\n",
       "      <td>355</td>\n",
       "    </tr>\n",
       "    <tr>\n",
       "      <th>3647</th>\n",
       "      <td>THE VILLAGE OF HARLEM....NEW YORK !</td>\n",
       "      <td>4632</td>\n",
       "      <td>Elisabeth</td>\n",
       "      <td>Manhattan</td>\n",
       "      <td>Harlem</td>\n",
       "      <td>40.80902</td>\n",
       "      <td>-73.94190</td>\n",
       "      <td>Private room</td>\n",
       "      <td>150</td>\n",
       "      <td>3</td>\n",
       "      <td>0</td>\n",
       "      <td>NaN</td>\n",
       "      <td>NaN</td>\n",
       "      <td>1</td>\n",
       "      <td>365</td>\n",
       "    </tr>\n",
       "    <tr>\n",
       "      <th>3831</th>\n",
       "      <td>Cozy Entire Floor of Brownstone</td>\n",
       "      <td>4869</td>\n",
       "      <td>LisaRoxanne</td>\n",
       "      <td>Brooklyn</td>\n",
       "      <td>Clinton Hill</td>\n",
       "      <td>40.68514</td>\n",
       "      <td>-73.95976</td>\n",
       "      <td>Entire home/apt</td>\n",
       "      <td>89</td>\n",
       "      <td>1</td>\n",
       "      <td>270</td>\n",
       "      <td>2019-07-05</td>\n",
       "      <td>4.64</td>\n",
       "      <td>1</td>\n",
       "      <td>194</td>\n",
       "    </tr>\n",
       "    <tr>\n",
       "      <th>5022</th>\n",
       "      <td>Entire Apt: Spacious Studio/Loft by central park</td>\n",
       "      <td>7192</td>\n",
       "      <td>Laura</td>\n",
       "      <td>Manhattan</td>\n",
       "      <td>East Harlem</td>\n",
       "      <td>40.79851</td>\n",
       "      <td>-73.94399</td>\n",
       "      <td>Entire home/apt</td>\n",
       "      <td>80</td>\n",
       "      <td>10</td>\n",
       "      <td>9</td>\n",
       "      <td>2018-11-19</td>\n",
       "      <td>0.10</td>\n",
       "      <td>1</td>\n",
       "      <td>0</td>\n",
       "    </tr>\n",
       "  </tbody>\n",
       "</table>\n",
       "</div>"
      ],
      "text/plain": [
       "                                                  name  host_id    host_name  \\\n",
       "id                                                                             \n",
       "2539                Clean & quiet apt home by the park     2787         John   \n",
       "2595                             Skylit Midtown Castle     2845     Jennifer   \n",
       "3647               THE VILLAGE OF HARLEM....NEW YORK !     4632    Elisabeth   \n",
       "3831                   Cozy Entire Floor of Brownstone     4869  LisaRoxanne   \n",
       "5022  Entire Apt: Spacious Studio/Loft by central park     7192        Laura   \n",
       "\n",
       "     neighbourhood_group neighbourhood  latitude  longitude        room_type  \\\n",
       "id                                                                             \n",
       "2539            Brooklyn    Kensington  40.64749  -73.97237     Private room   \n",
       "2595           Manhattan       Midtown  40.75362  -73.98377  Entire home/apt   \n",
       "3647           Manhattan        Harlem  40.80902  -73.94190     Private room   \n",
       "3831            Brooklyn  Clinton Hill  40.68514  -73.95976  Entire home/apt   \n",
       "5022           Manhattan   East Harlem  40.79851  -73.94399  Entire home/apt   \n",
       "\n",
       "      price  minimum_nights  number_of_reviews last_review  reviews_per_month  \\\n",
       "id                                                                              \n",
       "2539    149               1                  9  2018-10-19               0.21   \n",
       "2595    225               1                 45  2019-05-21               0.38   \n",
       "3647    150               3                  0         NaN                NaN   \n",
       "3831     89               1                270  2019-07-05               4.64   \n",
       "5022     80              10                  9  2018-11-19               0.10   \n",
       "\n",
       "      calculated_host_listings_count  availability_365  \n",
       "id                                                      \n",
       "2539                               6               365  \n",
       "2595                               2               355  \n",
       "3647                               1               365  \n",
       "3831                               1               194  \n",
       "5022                               1                 0  "
      ]
     },
     "execution_count": 2,
     "metadata": {},
     "output_type": "execute_result"
    }
   ],
   "source": [
    "df = pd.read_csv('nyc.csv', index_col= 'id')\n",
    "df.head()"
   ]
  },
  {
   "cell_type": "code",
   "execution_count": 3,
   "id": "985f9c91",
   "metadata": {},
   "outputs": [
    {
     "data": {
      "text/plain": [
       "name                                 16\n",
       "host_id                               0\n",
       "host_name                            21\n",
       "neighbourhood_group                   0\n",
       "neighbourhood                         0\n",
       "latitude                              0\n",
       "longitude                             0\n",
       "room_type                             0\n",
       "price                                 0\n",
       "minimum_nights                        0\n",
       "number_of_reviews                     0\n",
       "last_review                       10052\n",
       "reviews_per_month                 10052\n",
       "calculated_host_listings_count        0\n",
       "availability_365                      0\n",
       "dtype: int64"
      ]
     },
     "execution_count": 3,
     "metadata": {},
     "output_type": "execute_result"
    }
   ],
   "source": [
    "df.isna().sum()"
   ]
  },
  {
   "cell_type": "code",
   "execution_count": 4,
   "id": "72d07ca0",
   "metadata": {},
   "outputs": [
    {
     "data": {
      "text/plain": [
       "(48895, 15)"
      ]
     },
     "execution_count": 4,
     "metadata": {},
     "output_type": "execute_result"
    }
   ],
   "source": [
    "df.shape\n",
    "# As we see last review and reviews per month are highly empty so dropping the entire column"
   ]
  },
  {
   "cell_type": "code",
   "execution_count": 5,
   "id": "3b75e0c6",
   "metadata": {},
   "outputs": [
    {
     "data": {
      "text/plain": [
       "name                              16\n",
       "host_id                            0\n",
       "host_name                         21\n",
       "neighbourhood_group                0\n",
       "neighbourhood                      0\n",
       "latitude                           0\n",
       "longitude                          0\n",
       "room_type                          0\n",
       "price                              0\n",
       "minimum_nights                     0\n",
       "number_of_reviews                  0\n",
       "calculated_host_listings_count     0\n",
       "availability_365                   0\n",
       "dtype: int64"
      ]
     },
     "execution_count": 5,
     "metadata": {},
     "output_type": "execute_result"
    }
   ],
   "source": [
    "df.drop(['last_review', 'reviews_per_month'], axis=1, inplace=True)\n",
    "df.isna().sum()"
   ]
  },
  {
   "cell_type": "code",
   "execution_count": 6,
   "id": "8e71db54",
   "metadata": {},
   "outputs": [
    {
     "data": {
      "text/plain": [
       "name                              0\n",
       "host_id                           0\n",
       "host_name                         0\n",
       "neighbourhood_group               0\n",
       "neighbourhood                     0\n",
       "latitude                          0\n",
       "longitude                         0\n",
       "room_type                         0\n",
       "price                             0\n",
       "minimum_nights                    0\n",
       "number_of_reviews                 0\n",
       "calculated_host_listings_count    0\n",
       "availability_365                  0\n",
       "dtype: int64"
      ]
     },
     "execution_count": 6,
     "metadata": {},
     "output_type": "execute_result"
    }
   ],
   "source": [
    "df['name'].fillna(value = 'Anonymous', inplace = True)\n",
    "df['host_name'].fillna(value = 'Anonymous', inplace = True)\n",
    "df.isna().sum()"
   ]
  },
  {
   "cell_type": "code",
   "execution_count": 7,
   "id": "b49786cd",
   "metadata": {},
   "outputs": [
    {
     "data": {
      "text/plain": [
       "106.0"
      ]
     },
     "execution_count": 7,
     "metadata": {},
     "output_type": "execute_result"
    }
   ],
   "source": [
    "df['price'].median()"
   ]
  },
  {
   "cell_type": "code",
   "execution_count": 8,
   "id": "7a32bba9",
   "metadata": {},
   "outputs": [
    {
     "name": "stdout",
     "output_type": "stream",
     "text": [
      "Finding the number of unique values to each column for making dummmies: \n"
     ]
    },
    {
     "data": {
      "text/plain": [
       "name                              47906\n",
       "host_id                           37457\n",
       "host_name                         11453\n",
       "neighbourhood_group                   5\n",
       "neighbourhood                       221\n",
       "latitude                          19048\n",
       "longitude                         14718\n",
       "room_type                             3\n",
       "price                               674\n",
       "minimum_nights                      109\n",
       "number_of_reviews                   394\n",
       "calculated_host_listings_count       47\n",
       "availability_365                    366\n",
       "dtype: int64"
      ]
     },
     "execution_count": 8,
     "metadata": {},
     "output_type": "execute_result"
    }
   ],
   "source": [
    "# Finding the number of unique values in the column\n",
    "print(\"Finding the number of unique values to each column for making dummmies: \")\n",
    "df.nunique()"
   ]
  },
  {
   "cell_type": "code",
   "execution_count": 9,
   "id": "3543f677",
   "metadata": {},
   "outputs": [
    {
     "name": "stdout",
     "output_type": "stream",
     "text": [
      "Mean value of airbnb for these neighbourhood group are: \n",
      "neighbourhood_group\n",
      "Bronx             87.496792\n",
      "Brooklyn         124.383207\n",
      "Manhattan        196.875814\n",
      "Queens            99.517649\n",
      "Staten Island    114.812332\n",
      "Name: price, dtype: float64\n",
      "\n",
      " Mean value of room types for these room types are: \n",
      "room_type\n",
      "Entire home/apt    211.794246\n",
      "Private room        89.780973\n",
      "Shared room         70.127586\n",
      "Name: price, dtype: float64\n"
     ]
    }
   ],
   "source": [
    "## Now using group by function\n",
    "neighbourHood = df['price'].groupby(df['neighbourhood_group'])\n",
    "rooms = df['price'].groupby(df['room_type'])\n",
    "print(\"Mean value of airbnb for these neighbourhood group are: \")\n",
    "print(neighbourHood.mean())\n",
    "print(\"\\n Mean value of room types for these room types are: \")\n",
    "print(rooms.mean())"
   ]
  },
  {
   "cell_type": "code",
   "execution_count": 23,
   "id": "aeb5f342",
   "metadata": {},
   "outputs": [
    {
     "name": "stdout",
     "output_type": "stream",
     "text": [
      "<class 'list'>\n",
      "['Brooklyn' 'Manhattan' 'Queens' 'Staten Island' 'Bronx']\n"
     ]
    },
    {
     "data": {
      "text/plain": [
       "[<matplotlib.lines.Line2D at 0x1d23285c8d0>]"
      ]
     },
     "execution_count": 23,
     "metadata": {},
     "output_type": "execute_result"
    },
    {
     "data": {
      "image/png": "[encoded data removed]",
      "text/plain": [
       "<Figure size 640x480 with 1 Axes>"
      ]
     },
     "metadata": {},
     "output_type": "display_data"
    }
   ],
   "source": [
    "## Now plotting them for neighbourhood\n",
    "neighbour = df.neighbourhood_group.unique()\n",
    "neimean = (neighbourHood.mean()).to_list()\n",
    "print(type(neimean))\n",
    "print(neighbour)\n",
    "plt.plot(neighbour,neimean)\n",
    "#plt.xlabel(\"Neighbourhood\")\n",
    "#plt.ylabel(\"Neighbourhood price mean\")"
   ]
  },
  {
   "cell_type": "code",
   "execution_count": 24,
   "id": "a0b2f58d",
   "metadata": {},
   "outputs": [
    {
     "data": {
      "text/plain": [
       "[<matplotlib.lines.Line2D at 0x1d2328fb8d0>]"
      ]
     },
     "execution_count": 24,
     "metadata": {},
     "output_type": "execute_result"
    },
    {
     "data": {
      "image/png": "[encoded data removed]",
      "text/plain": [
       "<Figure size 640x480 with 1 Axes>"
      ]
     },
     "metadata": {},
     "output_type": "display_data"
    }
   ],
   "source": [
    "roomCost = df.room_type.unique()\n",
    "roomMean = rooms.mean().to_list()\n",
    "plt.plot(roomCost, roomMean)"
   ]
  },
  {
   "cell_type": "code",
   "execution_count": null,
   "id": "bd511da4",
   "metadata": {},
   "outputs": [],
   "source": [
    "## Making neighbourhood group and room_type to be dummies\n",
    "dfRoom = pd.get_dummies(df['room_type'])\n",
    "dfNG = pd.get_dummies(df['neighbourhood_group'])\n",
    "## We know that after using get_dummies() we need to remove one column to reduce collinearity\n",
    "#dfRoom.drop(['Entire home/apt'], axis = 1, inplace = True)\n",
    "#dfNG.drop(['Bronx'], axis = 1, inplace = True)\n",
    "print(dfRoom.head())\n",
    "print(dfNG.head())"
   ]
  },
  {
   "cell_type": "code",
   "execution_count": null,
   "id": "c85435ab",
   "metadata": {},
   "outputs": [],
   "source": [
    "df.drop(['room_type'], axis = 1 ,inplace=True)\n",
    "df.drop(['neighbourhood_group'], axis = 1, inplace= True)"
   ]
  },
  {
   "cell_type": "code",
   "execution_count": null,
   "id": "44a42a8e",
   "metadata": {},
   "outputs": [],
   "source": [
    "dfDummy = pd.concat([dfRoom,dfNG], axis=1)\n",
    "dfDummy"
   ]
  },
  {
   "cell_type": "code",
   "execution_count": null,
   "id": "8551f8df",
   "metadata": {},
   "outputs": [],
   "source": [
    "# Now conconating into the original dataframe\n",
    "df = pd.concat([df, dfDummy], axis=1)\n",
    "encodedColumn = ['Entire home/apt','Private room','Shared room','Bronx','Brooklyn','Manhattan','Queens','Staten Island']\n",
    "df.set_index = 'id'\n",
    "df[encodedColumn] = df[encodedColumn].astype(int)\n",
    "df.head()"
   ]
  },
  {
   "cell_type": "code",
   "execution_count": null,
   "id": "422e79b2",
   "metadata": {},
   "outputs": [],
   "source": [
    "columnScale = ['latitude','longitude','minimum_nights','number_of_reviews','calculated_host_listings_count','availability_365','Entire home/apt','Private room','Shared room','Bronx','Brooklyn','Manhattan','Queens','Staten Island']\n",
    "data = df.loc[:,columnScale]\n",
    "valueScale = df.loc[:, columnScale]\n",
    "# Min-Max Scaling using NumPy\n",
    "min_values = np.min(valueScale, axis=0)\n",
    "max_values = np.max(valueScale, axis=0)\n",
    "ScaledValue = (valueScale - min_values) / (max_values - min_values)\n",
    "df.loc[:, columnScale] = ScaledValue\n",
    "\n",
    "print(\"Now in this we have applied min-max scaling (feature scaling)\")\n",
    "print(\"The shape of the matrix is: \", df.shape )\n",
    "df.head()\n",
    "## In scaling we have not scaled price"
   ]
  },
  {
   "cell_type": "code",
   "execution_count": null,
   "id": "cdc24a08",
   "metadata": {},
   "outputs": [],
   "source": [
    "\n",
    "#Now again using correlation matrix to find correlation between elements for feature selection\n",
    "\n",
    "# Calculate the correlation matrix\n",
    "correlation_matrix = df.loc[:,columnScale].corr()\n",
    "\n",
    "# Set a correlation threshold\n",
    "correlation_threshold = 0.75\n",
    "\n",
    "# Identify pairs of features with high correlation\n",
    "correlated_pairs = []\n",
    "for i in range(len(correlation_matrix.columns)):\n",
    "    for j in range(i + 1, len(correlation_matrix.columns)):\n",
    "        if abs(correlation_matrix.iloc[i, j]) >= correlation_threshold:\n",
    "            correlated_pairs.append((correlation_matrix.columns[i], correlation_matrix.columns[j]))\n",
    "ans = ''\n",
    "# Remove one feature from each correlated pair\n",
    "for feature1, feature2 in correlated_pairs:\n",
    "    # Drop one of the features (you can choose based on your criteria)\n",
    "    df.drop(feature2, axis=1, inplace=True)\n",
    "    print(\"Dataframe removed after feature selection is: \",feature2)\n",
    "    ans = feature2\n",
    "# Display the DataFrame after removing correlated features\n",
    "print(\"DataFrame after removing correlated features:\")\n",
    "print(df.shape)\n"
   ]
  },
  {
   "cell_type": "code",
   "execution_count": null,
   "id": "4e83cd47",
   "metadata": {},
   "outputs": [],
   "source": [
    "df.sort_values(by='id', ascending=True, inplace=True)\n",
    "df.head()"
   ]
  },
  {
   "cell_type": "markdown",
   "id": "b52d7af1",
   "metadata": {},
   "source": [
    "### Now we shall be implementing PCA using numpy and pandas"
   ]
  },
  {
   "cell_type": "code",
   "execution_count": null,
   "id": "68f0f8f8",
   "metadata": {},
   "outputs": [],
   "source": [
    "data.drop([ans], axis= 1, inplace=True)\n",
    "data.head()\n",
    "# Now on this data we shall be implementing PCA"
   ]
  },
  {
   "cell_type": "code",
   "execution_count": null,
   "id": "ecaebdb8",
   "metadata": {},
   "outputs": [],
   "source": [
    "# Normalise the data\n",
    "data = (data - data.mean()) / data.std()\n",
    "data.head()"
   ]
  },
  {
   "cell_type": "code",
   "execution_count": null,
   "id": "b47149e9",
   "metadata": {},
   "outputs": [],
   "source": [
    "# Calculate the covariance matrix\n",
    "cov_mat = data.cov()\n",
    "cov_mat"
   ]
  },
  {
   "cell_type": "code",
   "execution_count": null,
   "id": "ffb97bfc",
   "metadata": {},
   "outputs": [],
   "source": [
    "# Now calculating eigenvectors and eigen values\n",
    "eig_values, eig_vectors = np.linalg.eig(cov_mat)\n",
    "\n",
    "print(\"The eigen values are: \\n\", eig_values)\n",
    "print(\"The eigen vectors are: \\n\", eig_vectors)\n"
   ]
  },
  {
   "cell_type": "code",
   "execution_count": null,
   "id": "24888aef",
   "metadata": {},
   "outputs": [],
   "source": [
    "## Now sorting of eigenvectors\n",
    "#The eigenvectors with the lowest eigenvalues bear the least information about the distribution of the data; those are the ones can be dropped.\n",
    "e_indices = np.argsort(eig_values)[::-1]\n",
    "eigenvectors_sorted = eig_vectors[:,e_indices]\n",
    "eigenvectors_sorted"
   ]
  },
  {
   "cell_type": "code",
   "execution_count": null,
   "id": "d5f4d734",
   "metadata": {},
   "outputs": [],
   "source": [
    "## Now choosing principal components\n",
    "newList = [i for i in eig_values]\n",
    "#newList.sort(reverse=True)\n",
    "#newList\n",
    "\n",
    "sumList = list()\n",
    "for i in range(len(newList)):\n",
    "    sumList.append((newList[i]/sum(newList))*100)\n",
    "print(newList)\n",
    "print(sumList)\n",
    "columnScale.remove('Private room')"
   ]
  },
  {
   "cell_type": "code",
   "execution_count": null,
   "id": "1179b300",
   "metadata": {},
   "outputs": [],
   "source": [
    "eigenData = {'name': columnScale, 'eigenValue' : newList , 'eigenValuePercentage' : sumList}\n",
    "dfEig = pd.DataFrame(eigenData)\n",
    "dfEig.sort_values(by='eigenValuePercentage',ascending=False,inplace=True)\n",
    "dfEig"
   ]
  },
  {
   "cell_type": "code",
   "execution_count": null,
   "id": "46d3ee3c",
   "metadata": {},
   "outputs": [],
   "source": [
    "myValues = dfEig['eigenValuePercentage']\n",
    "columnName = dfEig['name']\n",
    "plt.bar(columnName[0:len(myValues)-1], myValues[0:len(myValues)-1])"
   ]
  },
  {
   "cell_type": "code",
   "execution_count": null,
   "id": "c2673e7a",
   "metadata": {},
   "outputs": [],
   "source": [
    "myLabels = columnScale\n",
    "myLabels.pop()\n",
    "values = dfEig['eigenValuePercentage'].to_numpy()\n",
    "values = np.delete(values, len(values) - 1)\n",
    "print(len(values) == len(myLabels))\n",
    "plt.pie(values, labels= myLabels)\n",
    "print(myLabels)"
   ]
  },
  {
   "cell_type": "code",
   "execution_count": null,
   "id": "30e25063",
   "metadata": {},
   "outputs": [],
   "source": [
    "print(\"This Pie Chart tells about the importance of the feature in the dataset\")"
   ]
  },
  {
   "cell_type": "code",
   "execution_count": null,
   "id": "ce3542ac",
   "metadata": {},
   "outputs": [],
   "source": []
  }
 ],
 "metadata": {
  "kernelspec": {
   "display_name": "Python 3 (ipykernel)",
   "language": "python",
   "name": "python3"
  },
  "language_info": {
   "codemirror_mode": {
    "name": "ipython",
    "version": 3
   },
   "file_extension": ".py",
   "mimetype": "text/x-python",
   "name": "python",
   "nbconvert_exporter": "python",
   "pygments_lexer": "ipython3",
   "version": "3.11.5"
  }
 },
 "nbformat": 4,
 "nbformat_minor": 5
}
